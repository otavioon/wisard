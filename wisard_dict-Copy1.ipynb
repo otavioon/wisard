{
 "cells": [
  {
   "cell_type": "code",
   "execution_count": 1,
   "id": "7bb47dfb-8c08-4448-99bc-24ada1a62d36",
   "metadata": {
    "execution": {
     "iopub.execute_input": "2022-09-05T11:51:23.482121Z",
     "iopub.status.busy": "2022-09-05T11:51:23.481967Z",
     "iopub.status.idle": "2022-09-05T11:51:23.492621Z",
     "shell.execute_reply": "2022-09-05T11:51:23.492023Z",
     "shell.execute_reply.started": "2022-09-05T11:51:23.482104Z"
    },
    "tags": []
   },
   "outputs": [],
   "source": [
    "%load_ext autoreload\n",
    "%autoreload 2"
   ]
  },
  {
   "cell_type": "code",
   "execution_count": 1,
   "id": "017da630-a239-415a-90f4-6f516e26f193",
   "metadata": {
    "execution": {
     "iopub.execute_input": "2022-09-05T12:32:23.715533Z",
     "iopub.status.busy": "2022-09-05T12:32:23.715301Z",
     "iopub.status.idle": "2022-09-05T12:32:26.297066Z",
     "shell.execute_reply": "2022-09-05T12:32:26.296444Z",
     "shell.execute_reply.started": "2022-09-05T12:32:23.715471Z"
    },
    "tags": []
   },
   "outputs": [
    {
     "name": "stderr",
     "output_type": "stream",
     "text": [
      "2022-09-05 12:32:24.865885: W tensorflow/stream_executor/platform/default/dso_loader.cc:64] Could not load dynamic library 'libcudart.so.11.0'; dlerror: libcudart.so.11.0: cannot open shared object file: No such file or directory\n",
      "2022-09-05 12:32:24.865928: I tensorflow/stream_executor/cuda/cudart_stub.cc:29] Ignore above cudart dlerror if you do not have a GPU set up on your machine.\n"
     ]
    }
   ],
   "source": [
    "import random\n",
    "import sys\n",
    "from typing import List, Union\n",
    "\n",
    "import matplotlib.pyplot as plt\n",
    "import numpy as np\n",
    "import tqdm\n",
    "from sklearn.model_selection import train_test_split\n",
    "from sklearn.metrics import accuracy_score, classification_report\n",
    "from sklearn.datasets import load_iris\n",
    "from sklearn.model_selection import train_test_split\n",
    "\n",
    "from wisard.encoders import ThermometerEncoder, encode_dataset\n",
    "from wisard.wisard import WiSARD, model_from_coded_mental_image\n",
    "from wisard.utils import untie, get_random_permutation, permute_dataset_bits\n",
    "from wisard.optimize import find_best_bleach_bayesian, find_best_bleach_bin_search\n",
    "\n",
    "from wisard.data import IrisDataset\n",
    "from keras.datasets import mnist, fashion_mnist\n",
    "\n",
    "\n",
    "%matplotlib inline"
   ]
  },
  {
   "cell_type": "code",
   "execution_count": 2,
   "id": "b47f26ab-6290-4a42-8b51-f3a017e88700",
   "metadata": {
    "execution": {
     "iopub.execute_input": "2022-09-05T12:32:27.092507Z",
     "iopub.status.busy": "2022-09-05T12:32:27.092340Z",
     "iopub.status.idle": "2022-09-05T12:32:27.101460Z",
     "shell.execute_reply": "2022-09-05T12:32:27.101040Z",
     "shell.execute_reply.started": "2022-09-05T12:32:27.092491Z"
    },
    "tags": []
   },
   "outputs": [],
   "source": [
    "def sample_digit(target: int, X, y):\n",
    "    return next((digit for (digit, label) in zip(X, y)\n",
    "                 if int(label) == int(target))).reshape((28, 28))\n",
    "\n",
    "\n",
    "def display_mnist_digits(X,\n",
    "                         y,\n",
    "                         figsize=(16, 8),\n",
    "                         vmin: float = None,\n",
    "                         vmax: float = None,\n",
    "                         cmap: str = \"gray\"):\n",
    "    fig, axs = plt.subplots(2, 5, figsize=figsize, constrained_layout=True)\n",
    "\n",
    "    for i in range(2):\n",
    "        for j in range(5):\n",
    "            im = axs[i, j].imshow(\n",
    "                sample_digit(target=5 * i + j, X=X, y=y),\n",
    "                vmin=vmin,\n",
    "                vmax=vmax,\n",
    "                cmap=cmap,\n",
    "            )\n",
    "            axs[i, j].axes.xaxis.set_visible(False)\n",
    "            axs[i, j].axes.yaxis.set_visible(False)\n",
    "            if vmin is None or vmax is None:\n",
    "                fig.colorbar(im, ax=axs[i, j], shrink=0.6)\n",
    "    if vmin is not None and vmax is not None:\n",
    "        fig.colorbar(im, ax=axs[:, 4], location=\"right\", shrink=0.6)\n",
    "    plt.show()\n",
    "\n",
    "\n",
    "def do_train_and_evaluate(x_train,\n",
    "                          y_train,\n",
    "                          x_test,\n",
    "                          y_test,\n",
    "                          tuple_size: int,\n",
    "                          input_indexes: List[int] = None,\n",
    "                          shuffle_indexes: bool = True,\n",
    "                          bleach: Union[int, str] = \"auto\",\n",
    "                          **kwargs):\n",
    "    num_classes = len(np.unique(y_train))\n",
    "\n",
    "    print(\" ----- Training model ----- \")            \n",
    "\n",
    "    if input_indexes is None:\n",
    "        input_indexes = np.arange(x_train[0].size)\n",
    "    if shuffle_indexes:\n",
    "        np.random.shuffle(input_indexes)\n",
    "    print(f\"Using input_indexes: {input_indexes}\")\n",
    "\n",
    "    model = WiSARD(num_inputs=x_train[0].size,\n",
    "                   num_classes=num_classes,\n",
    "                   unit_inputs=tuple_size,\n",
    "                   unit_entries=1,\n",
    "                   unit_hashes=1,\n",
    "                   input_idxs=input_indexes,\n",
    "                   shared_rand_vals=False,\n",
    "                   randomize=False,\n",
    "                   use_dict=True)\n",
    "\n",
    "    model.fit(x_train, y_train)\n",
    "    max_bleach = model.max_bleach()\n",
    "    print(f\"Max bleach is: {max_bleach}\\n\")\n",
    "\n",
    "    print(\" ----- Evaluating model ----- \")\n",
    "\n",
    "    if isinstance(bleach, int):\n",
    "        y_pred = model.predict(x_test, y_test, bleach=bleach, use_tqdm=True)\n",
    "        y_pred, ties = untie(y_pred, use_tqdm=False)\n",
    "        accuracy = accuracy_score(y_test, y_pred)\n",
    "        print(f\"Accuracy: {accuracy:.3f}\")\n",
    "    elif bleach == \"auto\":\n",
    "        bleach = find_best_bleach_bin_search(model,\n",
    "                                           X=x_test,\n",
    "                                           y=y_test,\n",
    "                                           min_bleach=1,\n",
    "                                           max_bleach=max_bleach//4,\n",
    "                                           **kwargs)\n",
    "    else:\n",
    "        raise ValueError(f\"Invalid value for bleach: '{bleach}'\")\n",
    "\n",
    "    return model, bleach"
   ]
  },
  {
   "cell_type": "code",
   "execution_count": 3,
   "id": "91b8e662-7343-451b-b546-ee8b34d2fb4c",
   "metadata": {
    "execution": {
     "iopub.execute_input": "2022-09-05T12:32:27.102692Z",
     "iopub.status.busy": "2022-09-05T12:32:27.102431Z",
     "iopub.status.idle": "2022-09-05T12:32:27.192582Z",
     "shell.execute_reply": "2022-09-05T12:32:27.192171Z",
     "shell.execute_reply.started": "2022-09-05T12:32:27.102676Z"
    },
    "tags": []
   },
   "outputs": [],
   "source": [
    "shared_rand_vals = True  # not used...\n",
    "input_size = 24\n",
    "num_classes = 10\n",
    "tuple_size = 24\n",
    "unit_entries = 1  # Only used for BloomFilter\n",
    "unit_hashes = 1  # Only used for BloomFilter\n",
    "input_idxs = np.random.shuffle(np.arange(input_size))  # Order to select elements\n",
    "# input_idxs = np.arange(input_size).reshape(thermometer.resolution, -1).T.ravel()\n",
    "randomize = False  # Randomize selection order?"
   ]
  },
  {
   "cell_type": "markdown",
   "id": "590ede5e-cef6-4292-b8d6-43938605d945",
   "metadata": {},
   "source": [
    "## Randomized inputs"
   ]
  },
  {
   "cell_type": "code",
   "execution_count": 6,
   "id": "6315c45f-9dfb-4410-aa48-399dbf60813f",
   "metadata": {
    "execution": {
     "iopub.execute_input": "2022-09-05T12:33:21.661370Z",
     "iopub.status.busy": "2022-09-05T12:33:21.661122Z",
     "iopub.status.idle": "2022-09-05T12:33:23.082350Z",
     "shell.execute_reply": "2022-09-05T12:33:23.081423Z",
     "shell.execute_reply.started": "2022-09-05T12:33:21.661351Z"
    },
    "tags": []
   },
   "outputs": [
    {
     "name": "stderr",
     "output_type": "stream",
     "text": [
      "100%|████████████████████████████████████████████████████████████████████████████████████████████████████████████████████████████████████████████████████████████████| 60000/60000 [00:00<00:00, 93123.67it/s]\n",
      "100%|████████████████████████████████████████████████████████████████████████████████████████████████████████████████████████████████████████████████████████████████| 10000/10000 [00:00<00:00, 92476.81it/s]\n"
     ]
    },
    {
     "data": {
      "image/png": "[encoded data removed]",
      "text/plain": [
       "<Figure size 1600x800 with 11 Axes>"
      ]
     },
     "metadata": {},
     "output_type": "display_data"
    }
   ],
   "source": [
    "(x_train, y_train), (x_test, y_test) = mnist.load_data()\n",
    "permutation = np.arange(np.unpackbits(x_train[0]).size)\n",
    "permutation = np.random.permutation(permutation)\n",
    "permutation\n",
    "\n",
    "x_train = permute_dataset_bits(x_train, permutation)\n",
    "x_test  = permute_dataset_bits(x_test, permutation)\n",
    "\n",
    "display_mnist_digits(x_train, y_train, vmin=0, vmax=255)"
   ]
  },
  {
   "cell_type": "code",
   "execution_count": 7,
   "id": "ca869df2-0074-4d43-a5a8-5555d72901bd",
   "metadata": {
    "execution": {
     "iopub.execute_input": "2022-09-05T12:33:29.340155Z",
     "iopub.status.busy": "2022-09-05T12:33:29.339182Z",
     "iopub.status.idle": "2022-09-05T12:33:37.849241Z",
     "shell.execute_reply": "2022-09-05T12:33:37.848331Z",
     "shell.execute_reply.started": "2022-09-05T12:33:29.340131Z"
    },
    "tags": []
   },
   "outputs": [
    {
     "name": "stderr",
     "output_type": "stream",
     "text": [
      "Encoding dataset: 100%|██████████████████████████████████████████████████████████████████████████████████████████████████████████████████████████████████████████████| 60000/60000 [00:05<00:00, 10129.58it/s]\n",
      "Encoding dataset: 100%|██████████████████████████████████████████████████████████████████████████████████████████████████████████████████████████████████████████████| 10000/10000 [00:00<00:00, 10399.23it/s]\n"
     ]
    }
   ],
   "source": [
    "thermometer = ThermometerEncoder(minimum=0, maximum=255, resolution=24)\n",
    "x_train = encode_dataset(thermometer, x_train)\n",
    "x_test = encode_dataset(thermometer, x_test)"
   ]
  },
  {
   "cell_type": "code",
   "execution_count": 9,
   "id": "0fe64912-c07c-4a90-9817-a528c50e338f",
   "metadata": {
    "execution": {
     "iopub.execute_input": "2022-09-05T12:34:35.054050Z",
     "iopub.status.busy": "2022-09-05T12:34:35.053733Z",
     "iopub.status.idle": "2022-09-05T12:34:46.101091Z",
     "shell.execute_reply": "2022-09-05T12:34:46.100258Z",
     "shell.execute_reply.started": "2022-09-05T12:34:35.054032Z"
    },
    "tags": []
   },
   "outputs": [
    {
     "name": "stdout",
     "output_type": "stream",
     "text": [
      " ----- Training model ----- \n",
      "Using input_indexes: [    0     1     2 ... 18813 18814 18815]\n",
      "Instantiating DICT LUT\n",
      "Instantiating DICT LUT\n",
      "Instantiating DICT LUT\n",
      "Instantiating DICT LUT\n",
      "Instantiating DICT LUT\n",
      "Instantiating DICT LUT\n",
      "Instantiating DICT LUT\n",
      "Instantiating DICT LUT\n",
      "Instantiating DICT LUT\n",
      "Instantiating DICT LUT\n"
     ]
    },
    {
     "name": "stderr",
     "output_type": "stream",
     "text": [
      "Training model: 100%|████████████████████████████████████████████████████████████████████████████████████████████████████████████████████████████████████████████████████| 1000/1000 [00:05<00:00, 170.38it/s]\n"
     ]
    },
    {
     "name": "stdout",
     "output_type": "stream",
     "text": [
      "Max bleach is: 117\n",
      "\n",
      " ----- Evaluating model ----- \n",
      "Testing with bleach=7\n",
      "[b=7] Accuracy=0.500, ties=0\n",
      "Testing with bleach=14\n",
      "[b=14] Accuracy=0.600, ties=1\n",
      "Testing with bleach=21\n",
      "[b=21] Accuracy=0.400, ties=1\n",
      "Testing with bleach=11\n",
      "[b=11] Accuracy=0.700, ties=0\n",
      "Testing with bleach=14\n",
      "[b=14] Accuracy=0.600\n",
      "Testing with bleach=17\n",
      "[b=17] Accuracy=0.500, ties=0\n",
      "Testing with bleach=10\n",
      "[b=10] Accuracy=0.700, ties=0\n",
      "Testing with bleach=11\n",
      "[b=11] Accuracy=0.700\n",
      "Testing with bleach=12\n",
      "[b=12] Accuracy=0.700, ties=0\n",
      "Testing with bleach=9\n",
      "[b=9] Accuracy=0.700, ties=0\n",
      "Testing with bleach=10\n",
      "[b=10] Accuracy=0.700\n",
      "Testing with bleach=11\n",
      "[b=11] Accuracy=0.700\n",
      "Testing with bleach=8\n",
      "[b=8] Accuracy=0.600, ties=1\n",
      "Testing with bleach=9\n",
      "[b=9] Accuracy=0.700\n",
      "Testing with bleach=10\n",
      "[b=10] Accuracy=0.700\n",
      "Best bleach: 9....\n",
      "Best bleach: 9\n"
     ]
    }
   ],
   "source": [
    "input_size = x_train[0].size\n",
    "\n",
    "model, bleach = do_train_and_evaluate(x_train[:1000],\n",
    "                                      y_train[:1000],\n",
    "                                      x_test[:10],\n",
    "                                      y_test[:10],\n",
    "                                      input_indexes=None,\n",
    "                                      tuple_size=24,\n",
    "                                      bleach=\"auto\",\n",
    "                                      shuffle_indexes=False)\n",
    "print(f\"Best bleach: {bleach}\")"
   ]
  },
  {
   "cell_type": "markdown",
   "id": "2c7fbf1e-6c68-4fcc-b254-73eaeb937919",
   "metadata": {},
   "source": [
    "## Normal MNIST"
   ]
  },
  {
   "cell_type": "code",
   "execution_count": 10,
   "id": "642c5882-bb0c-4926-b1bf-0b9131afb4f2",
   "metadata": {
    "execution": {
     "iopub.execute_input": "2022-09-05T12:35:28.953334Z",
     "iopub.status.busy": "2022-09-05T12:35:28.953086Z",
     "iopub.status.idle": "2022-09-05T12:35:43.526661Z",
     "shell.execute_reply": "2022-09-05T12:35:43.525810Z",
     "shell.execute_reply.started": "2022-09-05T12:35:28.953315Z"
    },
    "tags": []
   },
   "outputs": [
    {
     "data": {
      "image/png": "[encoded data removed]",
      "text/plain": [
       "<Figure size 1600x800 with 11 Axes>"
      ]
     },
     "metadata": {},
     "output_type": "display_data"
    },
    {
     "name": "stderr",
     "output_type": "stream",
     "text": [
      "Encoding dataset: 100%|███████████████████████████████████████████████████████████████████████████████████████████████████████████████████████████████████████████████| 60000/60000 [00:10<00:00, 5798.41it/s]\n",
      "Encoding dataset: 100%|███████████████████████████████████████████████████████████████████████████████████████████████████████████████████████████████████████████████| 10000/10000 [00:01<00:00, 5804.96it/s]\n"
     ]
    }
   ],
   "source": [
    "(x_train, y_train), (x_test, y_test) = mnist.load_data()\n",
    "display_mnist_digits(x_train, y_train, vmin=0, vmax=255)\n",
    "\n",
    "thermometer = ThermometerEncoder(minimum=0, maximum=255, resolution=24)\n",
    "x_train = encode_dataset(thermometer, x_train)\n",
    "x_test = encode_dataset(thermometer, x_test)"
   ]
  },
  {
   "cell_type": "code",
   "execution_count": 11,
   "id": "8045d59b-a6d3-44b1-86bb-2cb2b45ec92c",
   "metadata": {
    "execution": {
     "iopub.execute_input": "2022-09-05T12:35:59.374188Z",
     "iopub.status.busy": "2022-09-05T12:35:59.373931Z",
     "iopub.status.idle": "2022-09-05T12:36:09.592187Z",
     "shell.execute_reply": "2022-09-05T12:36:09.591284Z",
     "shell.execute_reply.started": "2022-09-05T12:35:59.374169Z"
    },
    "tags": []
   },
   "outputs": [
    {
     "name": "stdout",
     "output_type": "stream",
     "text": [
      " ----- Training model ----- \n",
      "Using input_indexes: [    0     1     2 ... 18813 18814 18815]\n",
      "Instantiating DICT LUT\n",
      "Instantiating DICT LUT\n",
      "Instantiating DICT LUT\n",
      "Instantiating DICT LUT\n",
      "Instantiating DICT LUT\n",
      "Instantiating DICT LUT\n",
      "Instantiating DICT LUT\n",
      "Instantiating DICT LUT\n",
      "Instantiating DICT LUT\n",
      "Instantiating DICT LUT\n"
     ]
    },
    {
     "name": "stderr",
     "output_type": "stream",
     "text": [
      "Training model: 100%|████████████████████████████████████████████████████████████████████████████████████████████████████████████████████████████████████████████████████| 1000/1000 [00:05<00:00, 174.76it/s]\n"
     ]
    },
    {
     "name": "stdout",
     "output_type": "stream",
     "text": [
      "Max bleach is: 117\n",
      "\n",
      " ----- Evaluating model ----- \n",
      "Testing with bleach=7\n",
      "[b=7] Accuracy=0.400, ties=0\n",
      "Testing with bleach=14\n",
      "[b=14] Accuracy=0.400, ties=0\n",
      "Testing with bleach=21\n",
      "[b=21] Accuracy=0.300, ties=2\n",
      "Testing with bleach=4\n",
      "[b=4] Accuracy=0.700, ties=1\n",
      "Testing with bleach=7\n",
      "[b=7] Accuracy=0.400\n",
      "Testing with bleach=10\n",
      "[b=10] Accuracy=0.300, ties=2\n",
      "Testing with bleach=3\n",
      "[b=3] Accuracy=0.800, ties=0\n",
      "Testing with bleach=4\n",
      "[b=4] Accuracy=0.700\n",
      "Testing with bleach=5\n",
      "[b=5] Accuracy=0.700, ties=1\n",
      "Testing with bleach=2\n",
      "[b=2] Accuracy=0.700, ties=0\n",
      "Testing with bleach=3\n",
      "[b=3] Accuracy=0.800\n",
      "Testing with bleach=4\n",
      "[b=4] Accuracy=0.700\n",
      "Best bleach: 3....\n",
      "Best bleach: 3\n"
     ]
    }
   ],
   "source": [
    "input_size = x_train[0].size\n",
    "\n",
    "model, bleach = do_train_and_evaluate(x_train[:1000],\n",
    "                                      y_train[:1000],\n",
    "                                      x_test[:10],\n",
    "                                      y_test[:10],\n",
    "                                      input_indexes=None,\n",
    "                                      tuple_size=24,\n",
    "                                      bleach=\"auto\",\n",
    "                                      shuffle_indexes=False)\n",
    "print(f\"Best bleach: {bleach}\")"
   ]
  }
 ],
 "metadata": {
  "kernelspec": {
   "display_name": "Python 3 (ipykernel)",
   "language": "python",
   "name": "python3"
  },
  "language_info": {
   "codemirror_mode": {
    "name": "ipython",
    "version": 3
   },
   "file_extension": ".py",
   "mimetype": "text/x-python",
   "name": "python",
   "nbconvert_exporter": "python",
   "pygments_lexer": "ipython3",
   "version": "3.8.10"
  }
 },
 "nbformat": 4,
 "nbformat_minor": 5
}
