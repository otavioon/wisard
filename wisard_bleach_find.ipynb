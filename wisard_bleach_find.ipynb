{
 "cells": [
  {
   "cell_type": "code",
   "execution_count": 1,
   "id": "7bb47dfb-8c08-4448-99bc-24ada1a62d36",
   "metadata": {
    "execution": {
     "iopub.execute_input": "2022-08-04T15:55:24.954699Z",
     "iopub.status.busy": "2022-08-04T15:55:24.954499Z",
     "iopub.status.idle": "2022-08-04T15:55:24.970192Z",
     "shell.execute_reply": "2022-08-04T15:55:24.969462Z",
     "shell.execute_reply.started": "2022-08-04T15:55:24.954678Z"
    },
    "tags": []
   },
   "outputs": [],
   "source": [
    "%load_ext autoreload\n",
    "%autoreload 2"
   ]
  },
  {
   "cell_type": "code",
   "execution_count": 2,
   "id": "017da630-a239-415a-90f4-6f516e26f193",
   "metadata": {
    "execution": {
     "iopub.execute_input": "2022-08-04T15:55:24.971197Z",
     "iopub.status.busy": "2022-08-04T15:55:24.971008Z",
     "iopub.status.idle": "2022-08-04T15:55:27.992521Z",
     "shell.execute_reply": "2022-08-04T15:55:27.991883Z",
     "shell.execute_reply.started": "2022-08-04T15:55:24.971178Z"
    },
    "tags": []
   },
   "outputs": [
    {
     "name": "stderr",
     "output_type": "stream",
     "text": [
      "2022-08-04 15:55:26.359598: W tensorflow/stream_executor/platform/default/dso_loader.cc:64] Could not load dynamic library 'libcudart.so.11.0'; dlerror: libcudart.so.11.0: cannot open shared object file: No such file or directory\n",
      "2022-08-04 15:55:26.359685: I tensorflow/stream_executor/cuda/cudart_stub.cc:29] Ignore above cudart dlerror if you do not have a GPU set up on your machine.\n"
     ]
    }
   ],
   "source": [
    "import random\n",
    "import sys\n",
    "from typing import List\n",
    "\n",
    "import matplotlib.pyplot as plt\n",
    "import numpy as np\n",
    "import tqdm\n",
    "from sklearn.datasets import fetch_openml, load_iris\n",
    "from sklearn.model_selection import train_test_split\n",
    "from sklearn.metrics import accuracy_score, classification_report\n",
    "\n",
    "from wisard.encoders import ThermometerEncoder, encode_dataset\n",
    "from wisard.wisard import WiSARD\n",
    "from wisard.utils import untie\n",
    "from wisard.optimize import find_best_bleach_bayesian, find_best_bleach_bin_search\n",
    "\n",
    "from keras.datasets import mnist, cifar10, fashion_mnist\n",
    "\n",
    "%matplotlib inline"
   ]
  },
  {
   "cell_type": "code",
   "execution_count": 3,
   "id": "b47f26ab-6290-4a42-8b51-f3a017e88700",
   "metadata": {
    "execution": {
     "iopub.execute_input": "2022-08-04T15:55:27.994257Z",
     "iopub.status.busy": "2022-08-04T15:55:27.993336Z",
     "iopub.status.idle": "2022-08-04T15:55:28.041665Z",
     "shell.execute_reply": "2022-08-04T15:55:28.041060Z",
     "shell.execute_reply.started": "2022-08-04T15:55:27.994185Z"
    },
    "tags": []
   },
   "outputs": [],
   "source": [
    "def pick_a_sample(target: int, X, y, shape: tuple):\n",
    "    return next((digit for (digit, label) in zip(X, y)\n",
    "                 if int(label) == int(target))).reshape(shape)\n",
    "\n",
    "\n",
    "def display_samples(X,\n",
    "                    y,\n",
    "                    rows: int = 2,\n",
    "                    columns: int = 5,\n",
    "                    figsize=(16, 8),\n",
    "                    vmin: float = None,\n",
    "                    vmax: float = None,\n",
    "                    shape: tuple = (28, 28),\n",
    "                    cmap: str = \"gray\"):\n",
    "    fig, axs = plt.subplots(2, 5, figsize=figsize, constrained_layout=True)\n",
    "\n",
    "    for i in range(rows):\n",
    "        for j in range(columns):\n",
    "            im = axs[i, j].imshow(\n",
    "                pick_a_sample(target=columns * i + j, X=X, y=y, shape=shape),\n",
    "                vmin=vmin,\n",
    "                vmax=vmax,\n",
    "                cmap=cmap,\n",
    "            )\n",
    "            axs[i, j].axes.xaxis.set_visible(False)\n",
    "            axs[i, j].axes.yaxis.set_visible(False)\n",
    "            if vmin is None or vmax is None:\n",
    "                fig.colorbar(im, ax=axs[i, j], shrink=0.6)\n",
    "    if vmin is not None and vmax is not None:\n",
    "        fig.colorbar(im, ax=axs[:, 4], location=\"right\", shrink=0.6)\n",
    "    plt.show()"
   ]
  },
  {
   "cell_type": "code",
   "execution_count": 4,
   "id": "642c5882-bb0c-4926-b1bf-0b9131afb4f2",
   "metadata": {
    "execution": {
     "iopub.execute_input": "2022-08-04T15:55:28.043270Z",
     "iopub.status.busy": "2022-08-04T15:55:28.042470Z",
     "iopub.status.idle": "2022-08-04T15:55:28.859520Z",
     "shell.execute_reply": "2022-08-04T15:55:28.858867Z",
     "shell.execute_reply.started": "2022-08-04T15:55:28.043229Z"
    },
    "tags": []
   },
   "outputs": [
    {
     "data": {
      "image/png": "[encoded data removed]",
      "text/plain": [
       "<Figure size 1152x576 with 11 Axes>"
      ]
     },
     "metadata": {
      "needs_background": "light"
     },
     "output_type": "display_data"
    }
   ],
   "source": [
    "(x_train, y_train), (x_test, y_test) = mnist.load_data()\n",
    "display_samples(x_train, y_train, vmin=0, vmax=255)"
   ]
  },
  {
   "cell_type": "code",
   "execution_count": 5,
   "id": "81fac38d-7347-42bb-a3fb-64dd39a800b6",
   "metadata": {
    "execution": {
     "iopub.execute_input": "2022-08-04T15:55:28.860702Z",
     "iopub.status.busy": "2022-08-04T15:55:28.860397Z",
     "iopub.status.idle": "2022-08-04T15:55:40.510251Z",
     "shell.execute_reply": "2022-08-04T15:55:40.509366Z",
     "shell.execute_reply.started": "2022-08-04T15:55:28.860683Z"
    },
    "tags": []
   },
   "outputs": [
    {
     "name": "stderr",
     "output_type": "stream",
     "text": [
      "Encoding dataset: 100%|██████████████████████████████████████████████████████████████████████████████████████████████████████████████████████████████████████████████| 60000/60000 [00:09<00:00, 6531.06it/s]\n",
      "Encoding dataset: 100%|██████████████████████████████████████████████████████████████████████████████████████████████████████████████████████████████████████████████| 10000/10000 [00:01<00:00, 7657.72it/s]\n"
     ]
    }
   ],
   "source": [
    "thermometer = ThermometerEncoder(minimum=0, maximum=255, resolution=16)\n",
    "x_train = encode_dataset(thermometer, x_train)\n",
    "x_test = encode_dataset(thermometer, x_test)"
   ]
  },
  {
   "cell_type": "markdown",
   "id": "e735fdbc-d144-44d3-83ed-fcee7d2c74ac",
   "metadata": {},
   "source": [
    "# Creating wisard"
   ]
  },
  {
   "cell_type": "code",
   "execution_count": 6,
   "id": "91b8e662-7343-451b-b546-ee8b34d2fb4c",
   "metadata": {
    "execution": {
     "iopub.execute_input": "2022-08-04T15:55:40.511382Z",
     "iopub.status.busy": "2022-08-04T15:55:40.511186Z",
     "iopub.status.idle": "2022-08-04T15:55:40.545274Z",
     "shell.execute_reply": "2022-08-04T15:55:40.544792Z",
     "shell.execute_reply.started": "2022-08-04T15:55:40.511364Z"
    },
    "tags": []
   },
   "outputs": [],
   "source": [
    "shared_rand_vals = True  # not used...\n",
    "input_size = x_train[0].size\n",
    "num_classes = 10\n",
    "tuple_size = 16\n",
    "unit_entries = 1  # Only used for BloomFilter\n",
    "unit_hashes = 1  # Only used for BloomFilter\n",
    "input_idxs = np.random.shuffle(np.arange(input_size))  # Order to select elements\n",
    "# input_idxs = np.arange(input_size).reshape(thermometer.resolution, -1).T.ravel()\n",
    "randomize = False  # Randomize selection order?"
   ]
  },
  {
   "cell_type": "code",
   "execution_count": 7,
   "id": "ee4ba4a9-06b2-433e-9aa5-715ade83643b",
   "metadata": {
    "execution": {
     "iopub.execute_input": "2022-08-04T15:55:40.548102Z",
     "iopub.status.busy": "2022-08-04T15:55:40.547621Z",
     "iopub.status.idle": "2022-08-04T15:55:41.110215Z",
     "shell.execute_reply": "2022-08-04T15:55:41.109310Z",
     "shell.execute_reply.started": "2022-08-04T15:55:40.548079Z"
    },
    "tags": []
   },
   "outputs": [],
   "source": [
    "model = WiSARD(\n",
    "    num_inputs=input_size,\n",
    "    num_classes=num_classes,\n",
    "    unit_inputs=tuple_size,\n",
    "    unit_entries=unit_entries,\n",
    "    unit_hashes=unit_hashes,\n",
    "    input_idxs=input_idxs,\n",
    "    shared_rand_vals=shared_rand_vals,\n",
    "    randomize=False,\n",
    ")"
   ]
  },
  {
   "cell_type": "code",
   "execution_count": 8,
   "id": "e1a45fcb-f5c8-4274-a71a-5716417f48e8",
   "metadata": {
    "execution": {
     "iopub.execute_input": "2022-08-04T15:55:41.111333Z",
     "iopub.status.busy": "2022-08-04T15:55:41.111133Z",
     "iopub.status.idle": "2022-08-04T15:56:43.031612Z",
     "shell.execute_reply": "2022-08-04T15:56:43.030764Z",
     "shell.execute_reply.started": "2022-08-04T15:55:41.111314Z"
    },
    "tags": []
   },
   "outputs": [
    {
     "name": "stderr",
     "output_type": "stream",
     "text": [
      "Training model: 100%|█████████████████████████████████████████████████████████████████████████████████████████████████████████████████████████████████████████████████| 60000/60000 [01:01<00:00, 969.61it/s]\n"
     ]
    }
   ],
   "source": [
    "model.fit(x_train, y_train)"
   ]
  },
  {
   "cell_type": "code",
   "execution_count": 9,
   "id": "ab7366b0-a0aa-4d80-bf23-c6877f17ed06",
   "metadata": {
    "execution": {
     "iopub.execute_input": "2022-08-04T15:56:43.032805Z",
     "iopub.status.busy": "2022-08-04T15:56:43.032604Z",
     "iopub.status.idle": "2022-08-04T16:13:34.851611Z",
     "shell.execute_reply": "2022-08-04T16:13:34.850947Z",
     "shell.execute_reply.started": "2022-08-04T15:56:43.032785Z"
    },
    "tags": []
   },
   "outputs": [
    {
     "name": "stdout",
     "output_type": "stream",
     "text": [
      "|   iter    |  target   |  bleach   |\n",
      "-------------------------------------\n",
      "| \u001b[0m1        \u001b[0m | \u001b[0m0.4304   \u001b[0m | \u001b[0m869.9    \u001b[0m |\n",
      "| \u001b[95m2        \u001b[0m | \u001b[95m0.5086   \u001b[0m | \u001b[95m709.9    \u001b[0m |\n",
      "| \u001b[0m3        \u001b[0m | \u001b[0m0.1135   \u001b[0m | \u001b[0m6.579e+03\u001b[0m |\n",
      "| \u001b[95m4        \u001b[0m | \u001b[95m0.8044   \u001b[0m | \u001b[95m151.0    \u001b[0m |\n",
      "| \u001b[0m5        \u001b[0m | \u001b[0m0.8037   \u001b[0m | \u001b[0m152.1    \u001b[0m |\n",
      "| \u001b[0m6        \u001b[0m | \u001b[0m0.1174   \u001b[0m | \u001b[0m3.744e+03\u001b[0m |\n",
      "| \u001b[95m7        \u001b[0m | \u001b[95m0.9039   \u001b[0m | \u001b[95m1.0      \u001b[0m |\n",
      "| \u001b[0m8        \u001b[0m | \u001b[0m0.9039   \u001b[0m | \u001b[0m1.0      \u001b[0m |\n",
      "| \u001b[0m9        \u001b[0m | \u001b[0m0.9039   \u001b[0m | \u001b[0m1.85     \u001b[0m |\n",
      "| \u001b[0m10       \u001b[0m | \u001b[0m0.9039   \u001b[0m | \u001b[0m1.85     \u001b[0m |\n",
      "| \u001b[0m11       \u001b[0m | \u001b[0m0.9039   \u001b[0m | \u001b[0m1.85     \u001b[0m |\n",
      "| \u001b[0m12       \u001b[0m | \u001b[0m0.9039   \u001b[0m | \u001b[0m1.85     \u001b[0m |\n",
      "| \u001b[0m13       \u001b[0m | \u001b[0m0.9039   \u001b[0m | \u001b[0m1.85     \u001b[0m |\n",
      "=====================================\n"
     ]
    }
   ],
   "source": [
    "best_bleach = find_best_bleach_bayesian(model,\n",
    "                                        X=x_test,\n",
    "                                        y=y_test,\n",
    "                                        min_bleach=1,\n",
    "                                        max_bleach=model.max_bleach())"
   ]
  },
  {
   "cell_type": "code",
   "execution_count": 10,
   "id": "037ee624-a747-4040-b27b-2ebcc9aa2c5b",
   "metadata": {
    "execution": {
     "iopub.execute_input": "2022-08-04T16:13:34.853302Z",
     "iopub.status.busy": "2022-08-04T16:13:34.852836Z",
     "iopub.status.idle": "2022-08-04T16:13:34.886990Z",
     "shell.execute_reply": "2022-08-04T16:13:34.886442Z",
     "shell.execute_reply.started": "2022-08-04T16:13:34.853276Z"
    },
    "tags": []
   },
   "outputs": [
    {
     "name": "stdout",
     "output_type": "stream",
     "text": [
      "1.0\n"
     ]
    }
   ],
   "source": [
    "print(best_bleach)"
   ]
  },
  {
   "cell_type": "code",
   "execution_count": 11,
   "id": "68e916dc-2698-4367-a2c6-78a557d30674",
   "metadata": {
    "execution": {
     "iopub.execute_input": "2022-08-04T16:13:34.888104Z",
     "iopub.status.busy": "2022-08-04T16:13:34.887916Z",
     "iopub.status.idle": "2022-08-04T17:03:25.704368Z",
     "shell.execute_reply": "2022-08-04T17:03:25.703832Z",
     "shell.execute_reply.started": "2022-08-04T16:13:34.888087Z"
    }
   },
   "outputs": [
    {
     "name": "stdout",
     "output_type": "stream",
     "text": [
      "Testing with bleach=1686\n"
     ]
    },
    {
     "name": "stderr",
     "output_type": "stream",
     "text": [
      "Evaluating model: 100%|████████████████████████████████████████████████████████████████████████████████████████████████████████████████████████████████████████████████| 10000/10000 [02:09<00:00, 77.03it/s]\n",
      "Untieing: 100%|███████████████████████████████████████████████████████████████████████████████████████████████████████████████████████████████████████████████████| 10000/10000 [00:00<00:00, 1698305.06it/s]\n"
     ]
    },
    {
     "name": "stdout",
     "output_type": "stream",
     "text": [
      "[b=1686] Accuracy=0.203, ties=2563\n",
      "Testing with bleach=3371\n"
     ]
    },
    {
     "name": "stderr",
     "output_type": "stream",
     "text": [
      "Evaluating model: 100%|████████████████████████████████████████████████████████████████████████████████████████████████████████████████████████████████████████████████| 10000/10000 [02:09<00:00, 77.23it/s]\n",
      "Untieing: 100%|███████████████████████████████████████████████████████████████████████████████████████████████████████████████████████████████████████████████████| 10000/10000 [00:00<00:00, 1767734.65it/s]\n"
     ]
    },
    {
     "name": "stdout",
     "output_type": "stream",
     "text": [
      "[b=3371] Accuracy=0.126, ties=1141\n",
      "Testing with bleach=5056\n"
     ]
    },
    {
     "name": "stderr",
     "output_type": "stream",
     "text": [
      "Evaluating model: 100%|████████████████████████████████████████████████████████████████████████████████████████████████████████████████████████████████████████████████| 10000/10000 [02:09<00:00, 77.05it/s]\n",
      "Untieing: 100%|███████████████████████████████████████████████████████████████████████████████████████████████████████████████████████████████████████████████████| 10000/10000 [00:00<00:00, 1743993.35it/s]\n"
     ]
    },
    {
     "name": "stdout",
     "output_type": "stream",
     "text": [
      "[b=5056] Accuracy=0.114, ties=273\n",
      "Testing with bleach=844\n"
     ]
    },
    {
     "name": "stderr",
     "output_type": "stream",
     "text": [
      "Evaluating model: 100%|████████████████████████████████████████████████████████████████████████████████████████████████████████████████████████████████████████████████| 10000/10000 [02:09<00:00, 76.99it/s]\n",
      "Untieing: 100%|███████████████████████████████████████████████████████████████████████████████████████████████████████████████████████████████████████████████████| 10000/10000 [00:00<00:00, 1769972.57it/s]\n"
     ]
    },
    {
     "name": "stdout",
     "output_type": "stream",
     "text": [
      "[b=844] Accuracy=0.440, ties=780\n",
      "Testing with bleach=1686\n",
      "[b=1686] Accuracy=0.203\n",
      "Testing with bleach=2528\n"
     ]
    },
    {
     "name": "stderr",
     "output_type": "stream",
     "text": [
      "Evaluating model: 100%|████████████████████████████████████████████████████████████████████████████████████████████████████████████████████████████████████████████████| 10000/10000 [02:10<00:00, 76.85it/s]\n",
      "Untieing: 100%|███████████████████████████████████████████████████████████████████████████████████████████████████████████████████████████████████████████████████| 10000/10000 [00:00<00:00, 1641092.42it/s]\n"
     ]
    },
    {
     "name": "stdout",
     "output_type": "stream",
     "text": [
      "[b=2528] Accuracy=0.155, ties=1969\n",
      "Testing with bleach=423\n"
     ]
    },
    {
     "name": "stderr",
     "output_type": "stream",
     "text": [
      "Evaluating model: 100%|████████████████████████████████████████████████████████████████████████████████████████████████████████████████████████████████████████████████| 10000/10000 [02:10<00:00, 76.90it/s]\n",
      "Untieing: 100%|███████████████████████████████████████████████████████████████████████████████████████████████████████████████████████████████████████████████████| 10000/10000 [00:00<00:00, 1347134.74it/s]\n"
     ]
    },
    {
     "name": "stdout",
     "output_type": "stream",
     "text": [
      "[b=423] Accuracy=0.666, ties=220\n",
      "Testing with bleach=844\n",
      "[b=844] Accuracy=0.440\n",
      "Testing with bleach=1265\n"
     ]
    },
    {
     "name": "stderr",
     "output_type": "stream",
     "text": [
      "Evaluating model: 100%|████████████████████████████████████████████████████████████████████████████████████████████████████████████████████████████████████████████████| 10000/10000 [02:10<00:00, 76.79it/s]\n",
      "Untieing: 100%|███████████████████████████████████████████████████████████████████████████████████████████████████████████████████████████████████████████████████| 10000/10000 [00:00<00:00, 1719399.85it/s]\n"
     ]
    },
    {
     "name": "stdout",
     "output_type": "stream",
     "text": [
      "[b=1265] Accuracy=0.284, ties=2148\n",
      "Testing with bleach=213\n"
     ]
    },
    {
     "name": "stderr",
     "output_type": "stream",
     "text": [
      "Evaluating model: 100%|████████████████████████████████████████████████████████████████████████████████████████████████████████████████████████████████████████████████| 10000/10000 [02:09<00:00, 76.96it/s]\n",
      "Untieing: 100%|███████████████████████████████████████████████████████████████████████████████████████████████████████████████████████████████████████████████████| 10000/10000 [00:00<00:00, 1535587.61it/s]\n"
     ]
    },
    {
     "name": "stdout",
     "output_type": "stream",
     "text": [
      "[b=213] Accuracy=0.769, ties=105\n",
      "Testing with bleach=423\n",
      "[b=423] Accuracy=0.666\n",
      "Testing with bleach=633\n"
     ]
    },
    {
     "name": "stderr",
     "output_type": "stream",
     "text": [
      "Evaluating model: 100%|████████████████████████████████████████████████████████████████████████████████████████████████████████████████████████████████████████████████| 10000/10000 [02:09<00:00, 77.15it/s]\n",
      "Untieing: 100%|███████████████████████████████████████████████████████████████████████████████████████████████████████████████████████████████████████████████████| 10000/10000 [00:00<00:00, 1687034.03it/s]\n"
     ]
    },
    {
     "name": "stdout",
     "output_type": "stream",
     "text": [
      "[b=633] Accuracy=0.549, ties=401\n",
      "Testing with bleach=108\n"
     ]
    },
    {
     "name": "stderr",
     "output_type": "stream",
     "text": [
      "Evaluating model: 100%|████████████████████████████████████████████████████████████████████████████████████████████████████████████████████████████████████████████████| 10000/10000 [02:10<00:00, 76.71it/s]\n",
      "Untieing: 100%|███████████████████████████████████████████████████████████████████████████████████████████████████████████████████████████████████████████████████| 10000/10000 [00:00<00:00, 1676782.60it/s]\n"
     ]
    },
    {
     "name": "stdout",
     "output_type": "stream",
     "text": [
      "[b=108] Accuracy=0.831, ties=69\n",
      "Testing with bleach=213\n",
      "[b=213] Accuracy=0.769\n",
      "Testing with bleach=318\n"
     ]
    },
    {
     "name": "stderr",
     "output_type": "stream",
     "text": [
      "Evaluating model: 100%|████████████████████████████████████████████████████████████████████████████████████████████████████████████████████████████████████████████████| 10000/10000 [02:10<00:00, 76.40it/s]\n",
      "Untieing: 100%|███████████████████████████████████████████████████████████████████████████████████████████████████████████████████████████████████████████████████| 10000/10000 [00:00<00:00, 1697617.68it/s]\n"
     ]
    },
    {
     "name": "stdout",
     "output_type": "stream",
     "text": [
      "[b=318] Accuracy=0.726, ties=171\n",
      "Testing with bleach=56\n"
     ]
    },
    {
     "name": "stderr",
     "output_type": "stream",
     "text": [
      "Evaluating model: 100%|████████████████████████████████████████████████████████████████████████████████████████████████████████████████████████████████████████████████| 10000/10000 [02:09<00:00, 77.25it/s]\n",
      "Untieing: 100%|███████████████████████████████████████████████████████████████████████████████████████████████████████████████████████████████████████████████████| 10000/10000 [00:00<00:00, 1683107.54it/s]\n"
     ]
    },
    {
     "name": "stdout",
     "output_type": "stream",
     "text": [
      "[b=56] Accuracy=0.874, ties=37\n",
      "Testing with bleach=108\n",
      "[b=108] Accuracy=0.831\n",
      "Testing with bleach=160\n"
     ]
    },
    {
     "name": "stderr",
     "output_type": "stream",
     "text": [
      "Evaluating model: 100%|████████████████████████████████████████████████████████████████████████████████████████████████████████████████████████████████████████████████| 10000/10000 [02:10<00:00, 76.76it/s]\n",
      "Untieing: 100%|███████████████████████████████████████████████████████████████████████████████████████████████████████████████████████████████████████████████████| 10000/10000 [00:00<00:00, 1669308.29it/s]\n"
     ]
    },
    {
     "name": "stdout",
     "output_type": "stream",
     "text": [
      "[b=160] Accuracy=0.801, ties=74\n",
      "Testing with bleach=30\n"
     ]
    },
    {
     "name": "stderr",
     "output_type": "stream",
     "text": [
      "Evaluating model: 100%|████████████████████████████████████████████████████████████████████████████████████████████████████████████████████████████████████████████████| 10000/10000 [02:10<00:00, 76.92it/s]\n",
      "Untieing: 100%|███████████████████████████████████████████████████████████████████████████████████████████████████████████████████████████████████████████████████| 10000/10000 [00:00<00:00, 1593338.40it/s]\n"
     ]
    },
    {
     "name": "stdout",
     "output_type": "stream",
     "text": [
      "[b=30] Accuracy=0.902, ties=30\n",
      "Testing with bleach=56\n",
      "[b=56] Accuracy=0.874\n",
      "Testing with bleach=82\n"
     ]
    },
    {
     "name": "stderr",
     "output_type": "stream",
     "text": [
      "Evaluating model: 100%|████████████████████████████████████████████████████████████████████████████████████████████████████████████████████████████████████████████████| 10000/10000 [02:10<00:00, 76.81it/s]\n",
      "Untieing: 100%|███████████████████████████████████████████████████████████████████████████████████████████████████████████████████████████████████████████████████| 10000/10000 [00:00<00:00, 1558815.18it/s]\n"
     ]
    },
    {
     "name": "stdout",
     "output_type": "stream",
     "text": [
      "[b=82] Accuracy=0.849, ties=48\n",
      "Testing with bleach=17\n"
     ]
    },
    {
     "name": "stderr",
     "output_type": "stream",
     "text": [
      "Evaluating model: 100%|████████████████████████████████████████████████████████████████████████████████████████████████████████████████████████████████████████████████| 10000/10000 [02:09<00:00, 76.93it/s]\n",
      "Untieing: 100%|███████████████████████████████████████████████████████████████████████████████████████████████████████████████████████████████████████████████████| 10000/10000 [00:00<00:00, 1619797.64it/s]\n"
     ]
    },
    {
     "name": "stdout",
     "output_type": "stream",
     "text": [
      "[b=17] Accuracy=0.916, ties=31\n",
      "Testing with bleach=30\n",
      "[b=30] Accuracy=0.902\n",
      "Testing with bleach=43\n"
     ]
    },
    {
     "name": "stderr",
     "output_type": "stream",
     "text": [
      "Evaluating model: 100%|████████████████████████████████████████████████████████████████████████████████████████████████████████████████████████████████████████████████| 10000/10000 [02:10<00:00, 76.88it/s]\n",
      "Untieing: 100%|███████████████████████████████████████████████████████████████████████████████████████████████████████████████████████████████████████████████████| 10000/10000 [00:00<00:00, 1675911.62it/s]\n"
     ]
    },
    {
     "name": "stdout",
     "output_type": "stream",
     "text": [
      "[b=43] Accuracy=0.888, ties=32\n",
      "Testing with bleach=11\n"
     ]
    },
    {
     "name": "stderr",
     "output_type": "stream",
     "text": [
      "Evaluating model: 100%|████████████████████████████████████████████████████████████████████████████████████████████████████████████████████████████████████████████████| 10000/10000 [02:09<00:00, 77.06it/s]\n",
      "Untieing: 100%|███████████████████████████████████████████████████████████████████████████████████████████████████████████████████████████████████████████████████| 10000/10000 [00:00<00:00, 1508579.65it/s]\n"
     ]
    },
    {
     "name": "stdout",
     "output_type": "stream",
     "text": [
      "[b=11] Accuracy=0.921, ties=35\n",
      "Testing with bleach=17\n",
      "[b=17] Accuracy=0.916\n",
      "Testing with bleach=23\n"
     ]
    },
    {
     "name": "stderr",
     "output_type": "stream",
     "text": [
      "Evaluating model: 100%|████████████████████████████████████████████████████████████████████████████████████████████████████████████████████████████████████████████████| 10000/10000 [02:09<00:00, 77.07it/s]\n",
      "Untieing: 100%|███████████████████████████████████████████████████████████████████████████████████████████████████████████████████████████████████████████████████| 10000/10000 [00:00<00:00, 1614311.45it/s]\n"
     ]
    },
    {
     "name": "stdout",
     "output_type": "stream",
     "text": [
      "[b=23] Accuracy=0.910, ties=32\n",
      "Testing with bleach=8\n"
     ]
    },
    {
     "name": "stderr",
     "output_type": "stream",
     "text": [
      "Evaluating model: 100%|████████████████████████████████████████████████████████████████████████████████████████████████████████████████████████████████████████████████| 10000/10000 [02:10<00:00, 76.80it/s]\n",
      "Untieing: 100%|███████████████████████████████████████████████████████████████████████████████████████████████████████████████████████████████████████████████████| 10000/10000 [00:00<00:00, 1577517.68it/s]\n"
     ]
    },
    {
     "name": "stdout",
     "output_type": "stream",
     "text": [
      "[b=8] Accuracy=0.926, ties=37\n",
      "Testing with bleach=11\n",
      "[b=11] Accuracy=0.921\n",
      "Testing with bleach=14\n"
     ]
    },
    {
     "name": "stderr",
     "output_type": "stream",
     "text": [
      "Evaluating model: 100%|████████████████████████████████████████████████████████████████████████████████████████████████████████████████████████████████████████████████| 10000/10000 [02:09<00:00, 76.99it/s]\n",
      "Untieing: 100%|███████████████████████████████████████████████████████████████████████████████████████████████████████████████████████████████████████████████████| 10000/10000 [00:00<00:00, 1713079.56it/s]\n"
     ]
    },
    {
     "name": "stdout",
     "output_type": "stream",
     "text": [
      "[b=14] Accuracy=0.919, ties=28\n",
      "Testing with bleach=7\n"
     ]
    },
    {
     "name": "stderr",
     "output_type": "stream",
     "text": [
      "Evaluating model: 100%|████████████████████████████████████████████████████████████████████████████████████████████████████████████████████████████████████████████████| 10000/10000 [02:10<00:00, 76.88it/s]\n",
      "Untieing: 100%|███████████████████████████████████████████████████████████████████████████████████████████████████████████████████████████████████████████████████| 10000/10000 [00:00<00:00, 1657434.60it/s]\n"
     ]
    },
    {
     "name": "stdout",
     "output_type": "stream",
     "text": [
      "[b=7] Accuracy=0.926, ties=36\n",
      "Testing with bleach=8\n",
      "[b=8] Accuracy=0.926\n",
      "Testing with bleach=9\n"
     ]
    },
    {
     "name": "stderr",
     "output_type": "stream",
     "text": [
      "Evaluating model: 100%|████████████████████████████████████████████████████████████████████████████████████████████████████████████████████████████████████████████████| 10000/10000 [02:09<00:00, 76.93it/s]\n",
      "Untieing: 100%|███████████████████████████████████████████████████████████████████████████████████████████████████████████████████████████████████████████████████| 10000/10000 [00:00<00:00, 1658745.55it/s]"
     ]
    },
    {
     "name": "stdout",
     "output_type": "stream",
     "text": [
      "[b=9] Accuracy=0.924, ties=30\n",
      "Best bleach: 8....\n"
     ]
    },
    {
     "name": "stderr",
     "output_type": "stream",
     "text": [
      "\n"
     ]
    }
   ],
   "source": [
    "best_bleach = find_best_bleach_bin_search(model,\n",
    "                                          X=x_test,\n",
    "                                          y=y_test,\n",
    "                                          min_bleach=1,\n",
    "                                          max_bleach=model.max_bleach())"
   ]
  },
  {
   "cell_type": "code",
   "execution_count": 12,
   "id": "40d57557-c338-4abc-aed3-0fa1fc0f994f",
   "metadata": {
    "execution": {
     "iopub.execute_input": "2022-08-04T17:03:25.705481Z",
     "iopub.status.busy": "2022-08-04T17:03:25.705069Z",
     "iopub.status.idle": "2022-08-04T17:03:25.738726Z",
     "shell.execute_reply": "2022-08-04T17:03:25.738009Z",
     "shell.execute_reply.started": "2022-08-04T17:03:25.705462Z"
    },
    "tags": []
   },
   "outputs": [
    {
     "name": "stdout",
     "output_type": "stream",
     "text": [
      "8\n"
     ]
    }
   ],
   "source": [
    "print(best_bleach)"
   ]
  }
 ],
 "metadata": {
  "kernelspec": {
   "display_name": "Python 3 (ipykernel)",
   "language": "python",
   "name": "python3"
  },
  "language_info": {
   "codemirror_mode": {
    "name": "ipython",
    "version": 3
   },
   "file_extension": ".py",
   "mimetype": "text/x-python",
   "name": "python",
   "nbconvert_exporter": "python",
   "pygments_lexer": "ipython3",
   "version": "3.8.10"
  }
 },
 "nbformat": 4,
 "nbformat_minor": 5
}
