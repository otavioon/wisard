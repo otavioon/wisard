{
 "cells": [
  {
   "cell_type": "code",
   "execution_count": 1,
   "id": "6fdf0bd4-811f-4290-acf9-917845d03e29",
   "metadata": {
    "execution": {
     "iopub.execute_input": "2022-08-05T01:28:32.389123Z",
     "iopub.status.busy": "2022-08-05T01:28:32.388815Z",
     "iopub.status.idle": "2022-08-05T01:28:32.400427Z",
     "shell.execute_reply": "2022-08-05T01:28:32.399940Z",
     "shell.execute_reply.started": "2022-08-05T01:28:32.389103Z"
    },
    "tags": []
   },
   "outputs": [],
   "source": [
    "%load_ext autoreload\n",
    "%autoreload 2"
   ]
  },
  {
   "cell_type": "code",
   "execution_count": 2,
   "id": "ecb47348-9eaf-43d3-9a59-cffaded32f4c",
   "metadata": {
    "execution": {
     "iopub.execute_input": "2022-08-05T01:28:32.401486Z",
     "iopub.status.busy": "2022-08-05T01:28:32.401190Z",
     "iopub.status.idle": "2022-08-05T01:28:35.405195Z",
     "shell.execute_reply": "2022-08-05T01:28:35.404319Z",
     "shell.execute_reply.started": "2022-08-05T01:28:32.401468Z"
    },
    "tags": []
   },
   "outputs": [
    {
     "name": "stderr",
     "output_type": "stream",
     "text": [
      "2022-08-05 01:28:33.751663: W tensorflow/stream_executor/platform/default/dso_loader.cc:64] Could not load dynamic library 'libcudart.so.11.0'; dlerror: libcudart.so.11.0: cannot open shared object file: No such file or directory\n",
      "2022-08-05 01:28:33.751721: I tensorflow/stream_executor/cuda/cudart_stub.cc:29] Ignore above cudart dlerror if you do not have a GPU set up on your machine.\n"
     ]
    }
   ],
   "source": [
    "import random\n",
    "import sys\n",
    "from typing import List, Union\n",
    "\n",
    "import matplotlib.pyplot as plt\n",
    "import numpy as np\n",
    "import tqdm\n",
    "from sklearn.metrics import accuracy_score, classification_report\n",
    "\n",
    "from wisard.encoders import ThermometerEncoder, encode_dataset\n",
    "from wisard.wisard import WiSARD\n",
    "from wisard.utils import untie\n",
    "from wisard.optimize import find_best_bleach_bayesian, find_best_bleach_bin_search\n",
    "from wisard.data import IrisDataset\n",
    "\n",
    "from keras.datasets import mnist, fashion_mnist\n",
    "\n",
    "%matplotlib inline"
   ]
  },
  {
   "cell_type": "code",
   "execution_count": 3,
   "id": "63914c39-06df-4db8-bd61-e6cc66488583",
   "metadata": {
    "execution": {
     "iopub.execute_input": "2022-08-05T01:28:35.406570Z",
     "iopub.status.busy": "2022-08-05T01:28:35.406195Z",
     "iopub.status.idle": "2022-08-05T01:28:35.443380Z",
     "shell.execute_reply": "2022-08-05T01:28:35.442429Z",
     "shell.execute_reply.started": "2022-08-05T01:28:35.406549Z"
    },
    "tags": []
   },
   "outputs": [],
   "source": [
    "def do_train_and_evaluate(x_train,\n",
    "                          y_train,\n",
    "                          x_test,\n",
    "                          y_test,\n",
    "                          tuple_size: int,\n",
    "                          bleach: Union[int, str] = \"auto\",\n",
    "                          **kwargs):\n",
    "    num_classes = len(np.unique(y_train))\n",
    "\n",
    "    print(\" ----- Training model ----- \")\n",
    "\n",
    "    model = WiSARD(num_inputs=x_train[0].size,\n",
    "                   num_classes=num_classes,\n",
    "                   unit_inputs=tuple_size,\n",
    "                   unit_entries=1,\n",
    "                   unit_hashes=1,\n",
    "                   input_idxs=np.random.shuffle(np.arange(x_train[0].size)),\n",
    "                   shared_rand_vals=True,\n",
    "                   randomize=False)\n",
    "\n",
    "    model.fit(x_train, y_train)\n",
    "    max_bleach = model.max_bleach()\n",
    "    print(f\"Max bleach is: {max_bleach}\\n\")\n",
    "\n",
    "    print(\" ----- Evaluating model ----- \")\n",
    "\n",
    "    if isinstance(bleach, int):\n",
    "        y_pred = model.predict(x_test, y_test, bleach=bleach, use_tqdm=True)\n",
    "        y_pred, ties = untie(y_pred, use_tqdm=False)\n",
    "        accuracy = accuracy_score(y_test, y_pred)\n",
    "        print(f\"Accuracy: {accuracy:.3f}\")\n",
    "    elif bleach == \"auto\":\n",
    "        bleach = find_best_bleach_bin_search(model,\n",
    "                                           X=x_test,\n",
    "                                           y=y_test,\n",
    "                                           min_bleach=1,\n",
    "                                           max_bleach=max_bleach,\n",
    "                                           **kwargs)\n",
    "    else:\n",
    "        raise ValueError(f\"Invalid value for bleach: '{bleach}'\")\n",
    "\n",
    "    return model, bleach"
   ]
  },
  {
   "cell_type": "markdown",
   "id": "455dcb61-25f4-4206-8436-1a00e964f7a2",
   "metadata": {},
   "source": [
    "# IRIS\n",
    "\n",
    "Encoder:\n",
    "- Type: Thermometer\n",
    "- Resolution: 16\n",
    "- Min, max: 0, 8"
   ]
  },
  {
   "cell_type": "code",
   "execution_count": 4,
   "id": "62ff4aa9-c1f8-4b03-98c7-62d90a7400cb",
   "metadata": {
    "execution": {
     "iopub.execute_input": "2022-08-05T01:28:35.444660Z",
     "iopub.status.busy": "2022-08-05T01:28:35.444465Z",
     "iopub.status.idle": "2022-08-05T01:28:35.599885Z",
     "shell.execute_reply": "2022-08-05T01:28:35.599218Z",
     "shell.execute_reply.started": "2022-08-05T01:28:35.444642Z"
    },
    "tags": []
   },
   "outputs": [
    {
     "name": "stderr",
     "output_type": "stream",
     "text": [
      "Encoding dataset: 100%|██████████████████████████████████████████| 120/120 [00:00<00:00, 23792.97it/s]\n",
      "Encoding dataset: 100%|████████████████████████████████████████████| 30/30 [00:00<00:00, 28906.30it/s]\n"
     ]
    }
   ],
   "source": [
    "thermometer = ThermometerEncoder(minimum=0, maximum=8, resolution=16)\n",
    "(x_train, y_train), (x_test, y_test) = IrisDataset(test_size=0.2).load_data()\n",
    "x_train = encode_dataset(thermometer, x_train)\n",
    "x_test = encode_dataset(thermometer, x_test)"
   ]
  },
  {
   "cell_type": "code",
   "execution_count": 5,
   "id": "f065e923-3666-4822-a86a-067149c9849b",
   "metadata": {
    "execution": {
     "iopub.execute_input": "2022-08-05T01:28:35.606488Z",
     "iopub.status.busy": "2022-08-05T01:28:35.604767Z",
     "iopub.status.idle": "2022-08-05T01:28:36.793509Z",
     "shell.execute_reply": "2022-08-05T01:28:36.792990Z",
     "shell.execute_reply.started": "2022-08-05T01:28:35.606448Z"
    },
    "tags": []
   },
   "outputs": [
    {
     "name": "stdout",
     "output_type": "stream",
     "text": [
      " ----- Training model ----- \n"
     ]
    },
    {
     "name": "stderr",
     "output_type": "stream",
     "text": [
      "Training model: 100%|██████████████████████████████████████████████| 120/120 [00:00<00:00, 126.63it/s]\n"
     ]
    },
    {
     "name": "stdout",
     "output_type": "stream",
     "text": [
      "Max bleach is: 40\n",
      "\n",
      " ----- Evaluating model ----- \n",
      "Testing with bleach=10\n",
      "[b=10] Accuracy=0.933, ties=1\n",
      "Testing with bleach=20\n",
      "[b=20] Accuracy=0.833, ties=3\n",
      "Testing with bleach=30\n",
      "[b=30] Accuracy=0.800, ties=7\n",
      "Testing with bleach=5\n",
      "[b=5] Accuracy=0.867, ties=4\n",
      "Testing with bleach=10\n",
      "[b=10] Accuracy=0.933\n",
      "Testing with bleach=15\n",
      "[b=15] Accuracy=0.933, ties=1\n",
      "Testing with bleach=8\n",
      "[b=8] Accuracy=0.833, ties=4\n",
      "Testing with bleach=10\n",
      "[b=10] Accuracy=0.933\n",
      "Testing with bleach=12\n",
      "[b=12] Accuracy=0.933, ties=1\n",
      "Testing with bleach=9\n",
      "[b=9] Accuracy=0.833, ties=4\n",
      "Testing with bleach=10\n",
      "[b=10] Accuracy=0.933\n",
      "Testing with bleach=11\n",
      "[b=11] Accuracy=0.933, ties=1\n",
      "Best bleach: 10....\n",
      "Best bleach: 10\n"
     ]
    }
   ],
   "source": [
    "model, bleach = do_train_and_evaluate(x_train, y_train, x_test, y_test, tuple_size=8)\n",
    "print(f\"Best bleach: {bleach}\")"
   ]
  },
  {
   "cell_type": "code",
   "execution_count": 6,
   "id": "f28c0cca-b633-490a-afaa-86d6d5eecf83",
   "metadata": {
    "execution": {
     "iopub.execute_input": "2022-08-05T01:28:36.794817Z",
     "iopub.status.busy": "2022-08-05T01:28:36.794258Z",
     "iopub.status.idle": "2022-08-05T01:28:36.857010Z",
     "shell.execute_reply": "2022-08-05T01:28:36.856508Z",
     "shell.execute_reply.started": "2022-08-05T01:28:36.794796Z"
    }
   },
   "outputs": [
    {
     "name": "stdout",
     "output_type": "stream",
     "text": [
      " ----- Training model ----- \n"
     ]
    },
    {
     "name": "stderr",
     "output_type": "stream",
     "text": [
      "Training model: 100%|████████████████████████████████████████████| 120/120 [00:00<00:00, 26459.70it/s]"
     ]
    },
    {
     "name": "stdout",
     "output_type": "stream",
     "text": [
      "Max bleach is: 40\n",
      "\n",
      " ----- Evaluating model ----- \n",
      "Testing with bleach=10\n",
      "[b=10] Accuracy=0.933, ties=2\n",
      "Testing with bleach=20\n",
      "[b=20] Accuracy=0.867, ties=7\n",
      "Testing with bleach=30\n",
      "[b=30] Accuracy=0.533, ties=20\n",
      "Testing with bleach=5\n",
      "[b=5] Accuracy=0.867, ties=4\n",
      "Testing with bleach=10\n",
      "[b=10] Accuracy=0.933\n",
      "Testing with bleach=15\n",
      "[b=15] Accuracy=0.867, ties=3\n",
      "Testing with bleach=8\n",
      "[b=8] Accuracy=0.833, ties=5\n",
      "Testing with bleach=10\n",
      "[b=10] Accuracy=0.933\n",
      "Testing with bleach=12\n",
      "[b=12] Accuracy=0.933, ties=3\n",
      "Testing with bleach=9\n",
      "[b=9] Accuracy=0.833, ties=5\n",
      "Testing with bleach=10\n",
      "[b=10] Accuracy=0.933\n",
      "Testing with bleach=11\n",
      "[b=11] Accuracy=0.933, ties=1\n",
      "Best bleach: 10....\n",
      "Best bleach: 10\n"
     ]
    },
    {
     "name": "stderr",
     "output_type": "stream",
     "text": [
      "\n"
     ]
    }
   ],
   "source": [
    "model, bleach = do_train_and_evaluate(x_train, y_train, x_test, y_test, tuple_size=12)\n",
    "print(f\"Best bleach: {bleach}\")"
   ]
  },
  {
   "cell_type": "code",
   "execution_count": 7,
   "id": "a21144b9-588f-4466-bd0c-ca03123b81db",
   "metadata": {
    "execution": {
     "iopub.execute_input": "2022-08-05T01:28:36.858152Z",
     "iopub.status.busy": "2022-08-05T01:28:36.857722Z",
     "iopub.status.idle": "2022-08-05T01:28:36.931283Z",
     "shell.execute_reply": "2022-08-05T01:28:36.930749Z",
     "shell.execute_reply.started": "2022-08-05T01:28:36.858132Z"
    }
   },
   "outputs": [
    {
     "name": "stdout",
     "output_type": "stream",
     "text": [
      " ----- Training model ----- \n"
     ]
    },
    {
     "name": "stderr",
     "output_type": "stream",
     "text": [
      "Training model: 100%|████████████████████████████████████████████| 120/120 [00:00<00:00, 27835.22it/s]"
     ]
    },
    {
     "name": "stdout",
     "output_type": "stream",
     "text": [
      "Max bleach is: 40\n",
      "\n",
      " ----- Evaluating model ----- \n",
      "Testing with bleach=10\n",
      "[b=10] Accuracy=0.933, ties=0\n",
      "Testing with bleach=20\n",
      "[b=20] Accuracy=0.767, ties=4\n",
      "Testing with bleach=30\n",
      "[b=30] Accuracy=0.500, ties=11\n",
      "Testing with bleach=5\n",
      "[b=5] Accuracy=0.867, ties=3\n",
      "Testing with bleach=10\n",
      "[b=10] Accuracy=0.933\n",
      "Testing with bleach=15\n",
      "[b=15] Accuracy=0.800, ties=5\n",
      "Testing with bleach=8\n",
      "[b=8] Accuracy=0.833, ties=3\n",
      "Testing with bleach=10\n",
      "[b=10] Accuracy=0.933\n",
      "Testing with bleach=12\n",
      "[b=12] Accuracy=0.900, ties=5\n",
      "Testing with bleach=9\n",
      "[b=9] Accuracy=0.833, ties=3\n",
      "Testing with bleach=10\n",
      "[b=10] Accuracy=0.933\n",
      "Testing with bleach=11\n",
      "[b=11] Accuracy=0.933, ties=0\n",
      "Best bleach: 10....\n",
      "Best bleach: 10\n"
     ]
    },
    {
     "name": "stderr",
     "output_type": "stream",
     "text": [
      "\n"
     ]
    }
   ],
   "source": [
    "model, bleach = do_train_and_evaluate(x_train, y_train, x_test, y_test, tuple_size=16)\n",
    "print(f\"Best bleach: {bleach}\")"
   ]
  },
  {
   "cell_type": "markdown",
   "id": "c719533a-c8ae-46e2-a641-a33343c57feb",
   "metadata": {},
   "source": [
    "# Fashion MNIST\n",
    "\n",
    "Encoder:\n",
    "- Type: Thermometer\n",
    "- Resolution: 16\n",
    "- Min, max: 0, 255"
   ]
  },
  {
   "cell_type": "code",
   "execution_count": 8,
   "id": "2ed11ed6-5226-4781-925d-97fc123a3f3b",
   "metadata": {
    "execution": {
     "iopub.execute_input": "2022-08-05T01:28:36.932673Z",
     "iopub.status.busy": "2022-08-05T01:28:36.932087Z",
     "iopub.status.idle": "2022-08-05T01:28:49.197131Z",
     "shell.execute_reply": "2022-08-05T01:28:49.196066Z",
     "shell.execute_reply.started": "2022-08-05T01:28:36.932650Z"
    },
    "tags": []
   },
   "outputs": [
    {
     "name": "stderr",
     "output_type": "stream",
     "text": [
      "Encoding dataset: 100%|███████████████████████████████████████| 60000/60000 [00:09<00:00, 6391.18it/s]\n",
      "Encoding dataset: 100%|███████████████████████████████████████| 10000/10000 [00:01<00:00, 7619.20it/s]\n"
     ]
    }
   ],
   "source": [
    "thermometer = ThermometerEncoder(minimum=0, maximum=255, resolution=16)\n",
    "(x_train, y_train), (x_test, y_test) = fashion_mnist.load_data()\n",
    "x_train = encode_dataset(thermometer, x_train)\n",
    "x_test = encode_dataset(thermometer, x_test)"
   ]
  },
  {
   "cell_type": "code",
   "execution_count": 9,
   "id": "2c021647-081c-4b7c-b5d6-548014f08002",
   "metadata": {
    "execution": {
     "iopub.execute_input": "2022-08-05T01:28:49.198785Z",
     "iopub.status.busy": "2022-08-05T01:28:49.198530Z",
     "iopub.status.idle": "2022-08-05T03:02:38.839769Z",
     "shell.execute_reply": "2022-08-05T03:02:38.838971Z",
     "shell.execute_reply.started": "2022-08-05T01:28:49.198765Z"
    },
    "tags": []
   },
   "outputs": [
    {
     "name": "stdout",
     "output_type": "stream",
     "text": [
      " ----- Training model ----- \n"
     ]
    },
    {
     "name": "stderr",
     "output_type": "stream",
     "text": [
      "Training model: 100%|██████████████████████████████████████████| 60000/60000 [01:51<00:00, 535.93it/s]\n"
     ]
    },
    {
     "name": "stdout",
     "output_type": "stream",
     "text": [
      "Max bleach is: 6000\n",
      "\n",
      " ----- Evaluating model ----- \n",
      "Testing with bleach=1500\n",
      "[b=1500] Accuracy=0.676, ties=69\n",
      "Testing with bleach=3000\n",
      "[b=3000] Accuracy=0.478, ties=101\n",
      "Testing with bleach=4500\n",
      "[b=4500] Accuracy=0.269, ties=55\n",
      "Testing with bleach=750\n",
      "[b=750] Accuracy=0.633, ties=78\n",
      "Testing with bleach=1500\n",
      "[b=1500] Accuracy=0.676\n",
      "Testing with bleach=2250\n",
      "[b=2250] Accuracy=0.604, ties=92\n",
      "Testing with bleach=1125\n",
      "[b=1125] Accuracy=0.666, ties=64\n",
      "Testing with bleach=1500\n",
      "[b=1500] Accuracy=0.676\n",
      "Testing with bleach=1875\n",
      "[b=1875] Accuracy=0.661, ties=71\n",
      "Testing with bleach=1313\n",
      "[b=1313] Accuracy=0.675, ties=53\n",
      "Testing with bleach=1500\n",
      "[b=1500] Accuracy=0.676\n",
      "Testing with bleach=1687\n",
      "[b=1687] Accuracy=0.668, ties=65\n",
      "Testing with bleach=1407\n",
      "[b=1407] Accuracy=0.676, ties=77\n",
      "Testing with bleach=1500\n",
      "[b=1500] Accuracy=0.676\n",
      "Testing with bleach=1593\n",
      "[b=1593] Accuracy=0.674, ties=71\n",
      "Testing with bleach=1454\n",
      "[b=1454] Accuracy=0.679, ties=71\n",
      "Testing with bleach=1500\n",
      "[b=1500] Accuracy=0.676\n",
      "Testing with bleach=1546\n",
      "[b=1546] Accuracy=0.678, ties=76\n",
      "Testing with bleach=1431\n",
      "[b=1431] Accuracy=0.677, ties=76\n",
      "Testing with bleach=1454\n",
      "[b=1454] Accuracy=0.679\n",
      "Testing with bleach=1477\n",
      "[b=1477] Accuracy=0.678, ties=76\n",
      "Testing with bleach=1443\n",
      "[b=1443] Accuracy=0.678, ties=65\n",
      "Testing with bleach=1454\n",
      "[b=1454] Accuracy=0.679\n",
      "Testing with bleach=1465\n",
      "[b=1465] Accuracy=0.679, ties=87\n",
      "Testing with bleach=1460\n",
      "[b=1460] Accuracy=0.679, ties=75\n",
      "Testing with bleach=1465\n",
      "[b=1465] Accuracy=0.679\n",
      "Testing with bleach=1470\n",
      "[b=1470] Accuracy=0.679, ties=79\n",
      "Testing with bleach=1458\n",
      "[b=1458] Accuracy=0.679, ties=78\n",
      "Testing with bleach=1460\n",
      "[b=1460] Accuracy=0.679\n",
      "Testing with bleach=1462\n",
      "[b=1462] Accuracy=0.680, ties=84\n",
      "Testing with bleach=1461\n",
      "[b=1461] Accuracy=0.680, ties=70\n",
      "Testing with bleach=1462\n",
      "[b=1462] Accuracy=0.680\n",
      "Testing with bleach=1463\n",
      "[b=1463] Accuracy=0.679, ties=82\n",
      "Testing with bleach=1460\n",
      "[b=1460] Accuracy=0.679\n",
      "Testing with bleach=1461\n",
      "[b=1461] Accuracy=0.680\n",
      "Testing with bleach=1462\n",
      "[b=1462] Accuracy=0.680\n",
      "Best bleach: 1461....\n",
      "Best bleach: 1461\n"
     ]
    }
   ],
   "source": [
    "model, bleach = do_train_and_evaluate(x_train, y_train, x_test, y_test, tuple_size=8)\n",
    "print(f\"Best bleach: {bleach}\")"
   ]
  },
  {
   "cell_type": "code",
   "execution_count": 10,
   "id": "59cdbbd9-dc87-4268-9715-5ec27d00bc86",
   "metadata": {
    "execution": {
     "iopub.execute_input": "2022-08-05T03:02:38.840869Z",
     "iopub.status.busy": "2022-08-05T03:02:38.840674Z",
     "iopub.status.idle": "2022-08-05T04:07:25.130446Z",
     "shell.execute_reply": "2022-08-05T04:07:25.129610Z",
     "shell.execute_reply.started": "2022-08-05T03:02:38.840851Z"
    }
   },
   "outputs": [
    {
     "name": "stdout",
     "output_type": "stream",
     "text": [
      " ----- Training model ----- \n"
     ]
    },
    {
     "name": "stderr",
     "output_type": "stream",
     "text": [
      "Training model: 100%|██████████████████████████████████████████| 60000/60000 [01:18<00:00, 764.64it/s]\n"
     ]
    },
    {
     "name": "stdout",
     "output_type": "stream",
     "text": [
      "Max bleach is: 6000\n",
      "\n",
      " ----- Evaluating model ----- \n",
      "Testing with bleach=1500\n",
      "[b=1500] Accuracy=0.613, ties=146\n",
      "Testing with bleach=3000\n",
      "[b=3000] Accuracy=0.406, ties=207\n",
      "Testing with bleach=4500\n",
      "[b=4500] Accuracy=0.204, ties=121\n",
      "Testing with bleach=750\n",
      "[b=750] Accuracy=0.622, ties=106\n",
      "Testing with bleach=1500\n",
      "[b=1500] Accuracy=0.613\n",
      "Testing with bleach=2250\n",
      "[b=2250] Accuracy=0.504, ties=215\n",
      "Testing with bleach=375\n",
      "[b=375] Accuracy=0.689, ties=86\n",
      "Testing with bleach=750\n",
      "[b=750] Accuracy=0.622\n",
      "Testing with bleach=1125\n",
      "[b=1125] Accuracy=0.632, ties=134\n",
      "Testing with bleach=188\n",
      "[b=188] Accuracy=0.725, ties=87\n",
      "Testing with bleach=375\n",
      "[b=375] Accuracy=0.689\n",
      "Testing with bleach=562\n",
      "[b=562] Accuracy=0.642, ties=111\n",
      "Testing with bleach=95\n",
      "[b=95] Accuracy=0.760, ties=93\n",
      "Testing with bleach=188\n",
      "[b=188] Accuracy=0.725\n",
      "Testing with bleach=281\n",
      "[b=281] Accuracy=0.706, ties=94\n",
      "Testing with bleach=49\n",
      "[b=49] Accuracy=0.775, ties=106\n",
      "Testing with bleach=95\n",
      "[b=95] Accuracy=0.760\n",
      "Testing with bleach=141\n",
      "[b=141] Accuracy=0.744, ties=86\n",
      "Testing with bleach=26\n",
      "[b=26] Accuracy=0.783, ties=143\n",
      "Testing with bleach=49\n",
      "[b=49] Accuracy=0.775\n",
      "Testing with bleach=72\n",
      "[b=72] Accuracy=0.769, ties=98\n",
      "Testing with bleach=15\n",
      "[b=15] Accuracy=0.787, ties=138\n",
      "Testing with bleach=26\n",
      "[b=26] Accuracy=0.783\n",
      "Testing with bleach=37\n",
      "[b=37] Accuracy=0.777, ties=132\n",
      "Testing with bleach=10\n",
      "[b=10] Accuracy=0.792, ties=180\n",
      "Testing with bleach=15\n",
      "[b=15] Accuracy=0.787\n",
      "Testing with bleach=20\n",
      "[b=20] Accuracy=0.787, ties=122\n",
      "Testing with bleach=8\n",
      "[b=8] Accuracy=0.792, ties=162\n",
      "Testing with bleach=10\n",
      "[b=10] Accuracy=0.792\n",
      "Testing with bleach=12\n",
      "[b=12] Accuracy=0.790, ties=167\n",
      "Testing with bleach=9\n",
      "[b=9] Accuracy=0.791, ties=172\n",
      "Testing with bleach=10\n",
      "[b=10] Accuracy=0.792\n",
      "Testing with bleach=11\n",
      "[b=11] Accuracy=0.790, ties=152\n",
      "Best bleach: 10....\n",
      "Best bleach: 10\n"
     ]
    }
   ],
   "source": [
    "model, bleach = do_train_and_evaluate(x_train, y_train, x_test, y_test, tuple_size=12)\n",
    "print(f\"Best bleach: {bleach}\")"
   ]
  },
  {
   "cell_type": "code",
   "execution_count": 11,
   "id": "598911a6-8175-48cd-bf25-2f08a48b5ac0",
   "metadata": {
    "execution": {
     "iopub.execute_input": "2022-08-05T04:07:25.131761Z",
     "iopub.status.busy": "2022-08-05T04:07:25.131564Z",
     "iopub.status.idle": "2022-08-05T05:03:45.490975Z",
     "shell.execute_reply": "2022-08-05T05:03:45.490460Z",
     "shell.execute_reply.started": "2022-08-05T04:07:25.131743Z"
    },
    "tags": []
   },
   "outputs": [
    {
     "name": "stdout",
     "output_type": "stream",
     "text": [
      " ----- Training model ----- \n"
     ]
    },
    {
     "name": "stderr",
     "output_type": "stream",
     "text": [
      "Training model: 100%|██████████████████████████████████████████| 60000/60000 [01:02<00:00, 961.03it/s]\n"
     ]
    },
    {
     "name": "stdout",
     "output_type": "stream",
     "text": [
      "Max bleach is: 6000\n",
      "\n",
      " ----- Evaluating model ----- \n",
      "Testing with bleach=1500\n",
      "[b=1500] Accuracy=0.528, ties=462\n",
      "Testing with bleach=3000\n",
      "[b=3000] Accuracy=0.335, ties=392\n",
      "Testing with bleach=4500\n",
      "[b=4500] Accuracy=0.130, ties=155\n",
      "Testing with bleach=750\n",
      "[b=750] Accuracy=0.607, ties=164\n",
      "Testing with bleach=1500\n",
      "[b=1500] Accuracy=0.528\n",
      "Testing with bleach=2250\n",
      "[b=2250] Accuracy=0.418, ties=468\n",
      "Testing with bleach=375\n",
      "[b=375] Accuracy=0.679, ties=135\n",
      "Testing with bleach=750\n",
      "[b=750] Accuracy=0.607\n",
      "Testing with bleach=1125\n",
      "[b=1125] Accuracy=0.567, ties=326\n",
      "Testing with bleach=188\n",
      "[b=188] Accuracy=0.719, ties=120\n",
      "Testing with bleach=375\n",
      "[b=375] Accuracy=0.679\n",
      "Testing with bleach=562\n",
      "[b=562] Accuracy=0.627, ties=151\n",
      "Testing with bleach=95\n",
      "[b=95] Accuracy=0.756, ties=105\n",
      "Testing with bleach=188\n",
      "[b=188] Accuracy=0.719\n",
      "Testing with bleach=281\n",
      "[b=281] Accuracy=0.696, ties=136\n",
      "Testing with bleach=49\n",
      "[b=49] Accuracy=0.772, ties=123\n",
      "Testing with bleach=95\n",
      "[b=95] Accuracy=0.756\n",
      "Testing with bleach=141\n",
      "[b=141] Accuracy=0.737, ties=109\n",
      "Testing with bleach=26\n",
      "[b=26] Accuracy=0.783, ties=106\n",
      "Testing with bleach=49\n",
      "[b=49] Accuracy=0.772\n",
      "Testing with bleach=72\n",
      "[b=72] Accuracy=0.763, ties=129\n",
      "Testing with bleach=15\n",
      "[b=15] Accuracy=0.789, ties=139\n",
      "Testing with bleach=26\n",
      "[b=26] Accuracy=0.783\n",
      "Testing with bleach=37\n",
      "[b=37] Accuracy=0.776, ties=115\n",
      "Testing with bleach=10\n",
      "[b=10] Accuracy=0.796, ties=151\n",
      "Testing with bleach=15\n",
      "[b=15] Accuracy=0.789\n",
      "Testing with bleach=20\n",
      "[b=20] Accuracy=0.784, ties=153\n",
      "Testing with bleach=8\n",
      "[b=8] Accuracy=0.799, ties=151\n",
      "Testing with bleach=10\n",
      "[b=10] Accuracy=0.796\n",
      "Testing with bleach=12\n",
      "[b=12] Accuracy=0.793, ties=142\n",
      "Testing with bleach=7\n",
      "[b=7] Accuracy=0.803, ties=180\n",
      "Testing with bleach=8\n",
      "[b=8] Accuracy=0.799\n",
      "Testing with bleach=9\n",
      "[b=9] Accuracy=0.797, ties=158\n",
      "Testing with bleach=6\n",
      "[b=6] Accuracy=0.805, ties=172\n",
      "Testing with bleach=7\n",
      "[b=7] Accuracy=0.803\n",
      "Testing with bleach=8\n",
      "[b=8] Accuracy=0.799\n",
      "Testing with bleach=5\n",
      "[b=5] Accuracy=0.807, ties=168\n",
      "Testing with bleach=6\n",
      "[b=6] Accuracy=0.805\n",
      "Testing with bleach=7\n",
      "[b=7] Accuracy=0.803\n",
      "Testing with bleach=4\n",
      "[b=4] Accuracy=0.805, ties=165\n",
      "Testing with bleach=5\n",
      "[b=5] Accuracy=0.807\n",
      "Testing with bleach=6\n",
      "[b=6] Accuracy=0.805\n",
      "Best bleach: 5....\n",
      "Best bleach: 5\n"
     ]
    }
   ],
   "source": [
    "model, bleach = do_train_and_evaluate(x_train, y_train, x_test, y_test, tuple_size=16)\n",
    "print(f\"Best bleach: {bleach}\")"
   ]
  },
  {
   "cell_type": "markdown",
   "id": "09085285-4a5e-4f8a-90b3-67eca2a593cc",
   "metadata": {},
   "source": [
    "# MNIST\n",
    "\n",
    "Encoder:\n",
    "- Type: Thermometer\n",
    "- Resolution: 16\n",
    "- Min, max: 0, 255"
   ]
  },
  {
   "cell_type": "code",
   "execution_count": 12,
   "id": "10493e97-77ca-4c58-9495-50deecdd5baf",
   "metadata": {
    "execution": {
     "iopub.execute_input": "2022-08-05T05:03:45.492396Z",
     "iopub.status.busy": "2022-08-05T05:03:45.491704Z",
     "iopub.status.idle": "2022-08-05T05:03:56.916891Z",
     "shell.execute_reply": "2022-08-05T05:03:56.916188Z",
     "shell.execute_reply.started": "2022-08-05T05:03:45.492375Z"
    }
   },
   "outputs": [
    {
     "name": "stderr",
     "output_type": "stream",
     "text": [
      "Encoding dataset: 100%|███████████████████████████████████████| 60000/60000 [00:08<00:00, 6872.08it/s]\n",
      "Encoding dataset: 100%|███████████████████████████████████████| 10000/10000 [00:01<00:00, 7592.19it/s]\n"
     ]
    }
   ],
   "source": [
    "thermometer = ThermometerEncoder(minimum=0, maximum=255, resolution=16)\n",
    "(x_train, y_train), (x_test, y_test) = mnist.load_data()\n",
    "x_train = encode_dataset(thermometer, x_train)\n",
    "x_test = encode_dataset(thermometer, x_test)"
   ]
  },
  {
   "cell_type": "code",
   "execution_count": 13,
   "id": "ec337a68-b167-4bff-b859-83b956f1b0df",
   "metadata": {
    "execution": {
     "iopub.execute_input": "2022-08-05T05:03:56.918010Z",
     "iopub.status.busy": "2022-08-05T05:03:56.917708Z",
     "iopub.status.idle": "2022-08-05T06:42:06.725358Z",
     "shell.execute_reply": "2022-08-05T06:42:06.724713Z",
     "shell.execute_reply.started": "2022-08-05T05:03:56.917992Z"
    }
   },
   "outputs": [
    {
     "name": "stdout",
     "output_type": "stream",
     "text": [
      " ----- Training model ----- \n"
     ]
    },
    {
     "name": "stderr",
     "output_type": "stream",
     "text": [
      "Training model: 100%|██████████████████████████████████████████| 60000/60000 [01:50<00:00, 542.20it/s]\n"
     ]
    },
    {
     "name": "stdout",
     "output_type": "stream",
     "text": [
      "Max bleach is: 6742\n",
      "\n",
      " ----- Evaluating model ----- \n",
      "Testing with bleach=1686\n",
      "[b=1686] Accuracy=0.425, ties=169\n",
      "Testing with bleach=3371\n",
      "[b=3371] Accuracy=0.134, ties=150\n",
      "Testing with bleach=5056\n",
      "[b=5056] Accuracy=0.114, ties=0\n",
      "Testing with bleach=844\n",
      "[b=844] Accuracy=0.701, ties=93\n",
      "Testing with bleach=1686\n",
      "[b=1686] Accuracy=0.425\n",
      "Testing with bleach=2528\n",
      "[b=2528] Accuracy=0.215, ties=219\n",
      "Testing with bleach=423\n",
      "[b=423] Accuracy=0.792, ties=59\n",
      "Testing with bleach=844\n",
      "[b=844] Accuracy=0.701\n",
      "Testing with bleach=1265\n",
      "[b=1265] Accuracy=0.566, ties=159\n",
      "Testing with bleach=213\n",
      "[b=213] Accuracy=0.857, ties=35\n",
      "Testing with bleach=423\n",
      "[b=423] Accuracy=0.792\n",
      "Testing with bleach=633\n",
      "[b=633] Accuracy=0.741, ties=74\n",
      "Testing with bleach=108\n",
      "[b=108] Accuracy=0.889, ties=21\n",
      "Testing with bleach=213\n",
      "[b=213] Accuracy=0.857\n",
      "Testing with bleach=318\n",
      "[b=318] Accuracy=0.826, ties=41\n",
      "Testing with bleach=56\n",
      "[b=56] Accuracy=0.897, ties=48\n",
      "Testing with bleach=108\n",
      "[b=108] Accuracy=0.889\n",
      "Testing with bleach=160\n",
      "[b=160] Accuracy=0.877, ties=40\n",
      "Testing with bleach=30\n",
      "[b=30] Accuracy=0.884, ties=70\n",
      "Testing with bleach=56\n",
      "[b=56] Accuracy=0.897\n",
      "Testing with bleach=82\n",
      "[b=82] Accuracy=0.896, ties=26\n",
      "Testing with bleach=43\n",
      "[b=43] Accuracy=0.895, ties=46\n",
      "Testing with bleach=56\n",
      "[b=56] Accuracy=0.897\n",
      "Testing with bleach=69\n",
      "[b=69] Accuracy=0.897, ties=41\n",
      "Testing with bleach=63\n",
      "[b=63] Accuracy=0.898, ties=35\n",
      "Testing with bleach=69\n",
      "[b=69] Accuracy=0.897\n",
      "Testing with bleach=75\n",
      "[b=75] Accuracy=0.898, ties=35\n",
      "Testing with bleach=60\n",
      "[b=60] Accuracy=0.896, ties=35\n",
      "Testing with bleach=63\n",
      "[b=63] Accuracy=0.898\n",
      "Testing with bleach=66\n",
      "[b=66] Accuracy=0.899, ties=45\n",
      "Testing with bleach=65\n",
      "[b=65] Accuracy=0.898, ties=46\n",
      "Testing with bleach=66\n",
      "[b=66] Accuracy=0.899\n",
      "Testing with bleach=67\n",
      "[b=67] Accuracy=0.899, ties=33\n",
      "Testing with bleach=66\n",
      "[b=66] Accuracy=0.899\n",
      "Testing with bleach=67\n",
      "[b=67] Accuracy=0.899\n",
      "Testing with bleach=68\n",
      "[b=68] Accuracy=0.898, ties=31\n",
      "Best bleach: 67....\n",
      "Best bleach: 67\n"
     ]
    }
   ],
   "source": [
    "model, bleach = do_train_and_evaluate(x_train, y_train, x_test, y_test, tuple_size=8)\n",
    "print(f\"Best bleach: {bleach}\")"
   ]
  },
  {
   "cell_type": "code",
   "execution_count": 14,
   "id": "71ae58ff-1eae-4d8c-9997-331286c28b68",
   "metadata": {
    "execution": {
     "iopub.execute_input": "2022-08-05T06:42:06.726524Z",
     "iopub.status.busy": "2022-08-05T06:42:06.726333Z",
     "iopub.status.idle": "2022-08-05T07:46:44.653274Z",
     "shell.execute_reply": "2022-08-05T07:46:44.652166Z",
     "shell.execute_reply.started": "2022-08-05T06:42:06.726507Z"
    }
   },
   "outputs": [
    {
     "name": "stdout",
     "output_type": "stream",
     "text": [
      " ----- Training model ----- \n"
     ]
    },
    {
     "name": "stderr",
     "output_type": "stream",
     "text": [
      "Training model: 100%|██████████████████████████████████████████| 60000/60000 [01:17<00:00, 770.32it/s]\n"
     ]
    },
    {
     "name": "stdout",
     "output_type": "stream",
     "text": [
      "Max bleach is: 6742\n",
      "\n",
      " ----- Evaluating model ----- \n",
      "Testing with bleach=1686\n",
      "[b=1686] Accuracy=0.248, ties=537\n",
      "Testing with bleach=3371\n",
      "[b=3371] Accuracy=0.125, ties=389\n",
      "Testing with bleach=5056\n",
      "[b=5056] Accuracy=0.114, ties=31\n",
      "Testing with bleach=844\n",
      "[b=844] Accuracy=0.616, ties=221\n",
      "Testing with bleach=1686\n",
      "[b=1686] Accuracy=0.248\n",
      "Testing with bleach=2528\n",
      "[b=2528] Accuracy=0.137, ties=926\n",
      "Testing with bleach=423\n",
      "[b=423] Accuracy=0.761, ties=93\n",
      "Testing with bleach=844\n",
      "[b=844] Accuracy=0.616\n",
      "Testing with bleach=1265\n",
      "[b=1265] Accuracy=0.421, ties=377\n",
      "Testing with bleach=213\n",
      "[b=213] Accuracy=0.825, ties=62\n",
      "Testing with bleach=423\n",
      "[b=423] Accuracy=0.761\n",
      "Testing with bleach=633\n",
      "[b=633] Accuracy=0.692, ties=139\n",
      "Testing with bleach=108\n",
      "[b=108] Accuracy=0.876, ties=36\n",
      "Testing with bleach=213\n",
      "[b=213] Accuracy=0.825\n",
      "Testing with bleach=318\n",
      "[b=318] Accuracy=0.787, ties=102\n",
      "Testing with bleach=56\n",
      "[b=56] Accuracy=0.905, ties=40\n",
      "Testing with bleach=108\n",
      "[b=108] Accuracy=0.876\n",
      "Testing with bleach=160\n",
      "[b=160] Accuracy=0.849, ties=36\n",
      "Testing with bleach=30\n",
      "[b=30] Accuracy=0.918, ties=28\n",
      "Testing with bleach=56\n",
      "[b=56] Accuracy=0.905\n",
      "Testing with bleach=82\n",
      "[b=82] Accuracy=0.890, ties=30\n",
      "Testing with bleach=17\n",
      "[b=17] Accuracy=0.926, ties=43\n",
      "Testing with bleach=30\n",
      "[b=30] Accuracy=0.918\n",
      "Testing with bleach=43\n",
      "[b=43] Accuracy=0.912, ties=28\n",
      "Testing with bleach=11\n",
      "[b=11] Accuracy=0.927, ties=38\n",
      "Testing with bleach=17\n",
      "[b=17] Accuracy=0.926\n",
      "Testing with bleach=23\n",
      "[b=23] Accuracy=0.922, ties=31\n",
      "Testing with bleach=8\n",
      "[b=8] Accuracy=0.924, ties=56\n",
      "Testing with bleach=11\n",
      "[b=11] Accuracy=0.927\n",
      "Testing with bleach=14\n",
      "[b=14] Accuracy=0.926, ties=43\n",
      "Testing with bleach=10\n",
      "[b=10] Accuracy=0.925, ties=40\n",
      "Testing with bleach=11\n",
      "[b=11] Accuracy=0.927\n",
      "Testing with bleach=12\n",
      "[b=12] Accuracy=0.926, ties=34\n",
      "Best bleach: 11....\n",
      "Best bleach: 11\n"
     ]
    }
   ],
   "source": [
    "model, bleach = do_train_and_evaluate(x_train, y_train, x_test, y_test, tuple_size=12)\n",
    "print(f\"Best bleach: {bleach}\")"
   ]
  },
  {
   "cell_type": "code",
   "execution_count": 15,
   "id": "18ef3895-57f5-4207-8645-daea0837706c",
   "metadata": {
    "execution": {
     "iopub.execute_input": "2022-08-05T07:46:44.654864Z",
     "iopub.status.busy": "2022-08-05T07:46:44.654599Z",
     "iopub.status.idle": "2022-08-05T08:36:44.001181Z",
     "shell.execute_reply": "2022-08-05T08:36:44.000362Z",
     "shell.execute_reply.started": "2022-08-05T07:46:44.654844Z"
    },
    "tags": []
   },
   "outputs": [
    {
     "name": "stdout",
     "output_type": "stream",
     "text": [
      " ----- Training model ----- \n"
     ]
    },
    {
     "name": "stderr",
     "output_type": "stream",
     "text": [
      "Training model: 100%|██████████████████████████████████████████| 60000/60000 [01:02<00:00, 967.62it/s]\n"
     ]
    },
    {
     "name": "stdout",
     "output_type": "stream",
     "text": [
      "Max bleach is: 6742\n",
      "\n",
      " ----- Evaluating model ----- \n",
      "Testing with bleach=1686\n",
      "[b=1686] Accuracy=0.203, ties=2563\n",
      "Testing with bleach=3371\n",
      "[b=3371] Accuracy=0.126, ties=1141\n",
      "Testing with bleach=5056\n",
      "[b=5056] Accuracy=0.114, ties=273\n",
      "Testing with bleach=844\n",
      "[b=844] Accuracy=0.440, ties=780\n",
      "Testing with bleach=1686\n",
      "[b=1686] Accuracy=0.203\n",
      "Testing with bleach=2528\n",
      "[b=2528] Accuracy=0.155, ties=1969\n",
      "Testing with bleach=423\n",
      "[b=423] Accuracy=0.666, ties=220\n",
      "Testing with bleach=844\n",
      "[b=844] Accuracy=0.440\n",
      "Testing with bleach=1265\n",
      "[b=1265] Accuracy=0.284, ties=2148\n",
      "Testing with bleach=213\n",
      "[b=213] Accuracy=0.769, ties=105\n",
      "Testing with bleach=423\n",
      "[b=423] Accuracy=0.666\n",
      "Testing with bleach=633\n",
      "[b=633] Accuracy=0.549, ties=401\n",
      "Testing with bleach=108\n",
      "[b=108] Accuracy=0.831, ties=69\n",
      "Testing with bleach=213\n",
      "[b=213] Accuracy=0.769\n",
      "Testing with bleach=318\n",
      "[b=318] Accuracy=0.726, ties=171\n",
      "Testing with bleach=56\n",
      "[b=56] Accuracy=0.874, ties=37\n",
      "Testing with bleach=108\n",
      "[b=108] Accuracy=0.831\n",
      "Testing with bleach=160\n",
      "[b=160] Accuracy=0.801, ties=74\n",
      "Testing with bleach=30\n",
      "[b=30] Accuracy=0.902, ties=30\n",
      "Testing with bleach=56\n",
      "[b=56] Accuracy=0.874\n",
      "Testing with bleach=82\n",
      "[b=82] Accuracy=0.849, ties=48\n",
      "Testing with bleach=17\n",
      "[b=17] Accuracy=0.916, ties=31\n",
      "Testing with bleach=30\n",
      "[b=30] Accuracy=0.902\n",
      "Testing with bleach=43\n",
      "[b=43] Accuracy=0.888, ties=32\n",
      "Testing with bleach=11\n",
      "[b=11] Accuracy=0.921, ties=35\n",
      "Testing with bleach=17\n",
      "[b=17] Accuracy=0.916\n",
      "Testing with bleach=23\n",
      "[b=23] Accuracy=0.910, ties=32\n",
      "Testing with bleach=8\n",
      "[b=8] Accuracy=0.926, ties=37\n",
      "Testing with bleach=11\n",
      "[b=11] Accuracy=0.921\n",
      "Testing with bleach=14\n",
      "[b=14] Accuracy=0.919, ties=28\n",
      "Testing with bleach=7\n",
      "[b=7] Accuracy=0.926, ties=36\n",
      "Testing with bleach=8\n",
      "[b=8] Accuracy=0.926\n",
      "Testing with bleach=9\n",
      "[b=9] Accuracy=0.924, ties=30\n",
      "Best bleach: 8....\n",
      "Best bleach: 8\n"
     ]
    }
   ],
   "source": [
    "model, bleach = do_train_and_evaluate(x_train, y_train, x_test, y_test, tuple_size=16)\n",
    "print(f\"Best bleach: {bleach}\")"
   ]
  }
 ],
 "metadata": {
  "kernelspec": {
   "display_name": "Python 3 (ipykernel)",
   "language": "python",
   "name": "python3"
  },
  "language_info": {
   "codemirror_mode": {
    "name": "ipython",
    "version": 3
   },
   "file_extension": ".py",
   "mimetype": "text/x-python",
   "name": "python",
   "nbconvert_exporter": "python",
   "pygments_lexer": "ipython3",
   "version": "3.8.10"
  }
 },
 "nbformat": 4,
 "nbformat_minor": 5
}
