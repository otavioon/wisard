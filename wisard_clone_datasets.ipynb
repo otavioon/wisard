{
 "cells": [
  {
   "cell_type": "code",
   "execution_count": 1,
   "id": "e86b1944-7ff1-4c60-9ca6-f17d406de6b3",
   "metadata": {
    "execution": {
     "iopub.execute_input": "2022-08-05T01:28:34.701419Z",
     "iopub.status.busy": "2022-08-05T01:28:34.701138Z",
     "iopub.status.idle": "2022-08-05T01:28:34.714876Z",
     "shell.execute_reply": "2022-08-05T01:28:34.714117Z",
     "shell.execute_reply.started": "2022-08-05T01:28:34.701399Z"
    },
    "tags": []
   },
   "outputs": [],
   "source": [
    "%load_ext autoreload\n",
    "%autoreload 2"
   ]
  },
  {
   "cell_type": "code",
   "execution_count": 2,
   "id": "f36d5008-d579-4a9d-93a2-441c924d446f",
   "metadata": {
    "execution": {
     "iopub.execute_input": "2022-08-05T01:28:34.716579Z",
     "iopub.status.busy": "2022-08-05T01:28:34.716028Z",
     "iopub.status.idle": "2022-08-05T01:28:37.746528Z",
     "shell.execute_reply": "2022-08-05T01:28:37.745716Z",
     "shell.execute_reply.started": "2022-08-05T01:28:34.716555Z"
    },
    "tags": []
   },
   "outputs": [
    {
     "name": "stderr",
     "output_type": "stream",
     "text": [
      "2022-08-05 01:28:36.122884: W tensorflow/stream_executor/platform/default/dso_loader.cc:64] Could not load dynamic library 'libcudart.so.11.0'; dlerror: libcudart.so.11.0: cannot open shared object file: No such file or directory\n",
      "2022-08-05 01:28:36.122935: I tensorflow/stream_executor/cuda/cudart_stub.cc:29] Ignore above cudart dlerror if you do not have a GPU set up on your machine.\n"
     ]
    }
   ],
   "source": [
    "import random\n",
    "import sys\n",
    "from typing import List, Union\n",
    "\n",
    "import matplotlib.pyplot as plt\n",
    "import numpy as np\n",
    "import tqdm\n",
    "from sklearn.model_selection import train_test_split\n",
    "from sklearn.metrics import accuracy_score, classification_report\n",
    "from sklearn.datasets import load_iris\n",
    "from sklearn.model_selection import train_test_split\n",
    "\n",
    "from wisard.encoders import ThermometerEncoder, encode_dataset\n",
    "from wisard.wisard import WiSARD, model_from_coded_mental_image\n",
    "from wisard.utils import untie, get_random_permutation, permute_dataset_bits\n",
    "from wisard.optimize import find_best_bleach_bayesian, find_best_bleach_bin_search\n",
    "\n",
    "from wisard.data import IrisDataset\n",
    "from keras.datasets import mnist, fashion_mnist\n",
    "\n",
    "\n",
    "%matplotlib inline"
   ]
  },
  {
   "cell_type": "code",
   "execution_count": 3,
   "id": "5dc7aaaa-e16c-4365-9649-9d626649dc96",
   "metadata": {
    "execution": {
     "iopub.execute_input": "2022-08-05T01:28:37.747923Z",
     "iopub.status.busy": "2022-08-05T01:28:37.747543Z",
     "iopub.status.idle": "2022-08-05T01:28:37.790062Z",
     "shell.execute_reply": "2022-08-05T01:28:37.789316Z",
     "shell.execute_reply.started": "2022-08-05T01:28:37.747904Z"
    },
    "tags": []
   },
   "outputs": [],
   "source": [
    "def sample_digit(target: int, X, y):\n",
    "    return next((digit for (digit, label) in zip(X, y)\n",
    "                 if int(label) == int(target))).reshape((28, 28))\n",
    "\n",
    "\n",
    "def display_mnist_digits(X,\n",
    "                         y,\n",
    "                         figsize=(16, 8),\n",
    "                         vmin: float = None,\n",
    "                         vmax: float = None,\n",
    "                         cmap: str = \"gray\"):\n",
    "    fig, axs = plt.subplots(2, 5, figsize=figsize, constrained_layout=True)\n",
    "\n",
    "    for i in range(2):\n",
    "        for j in range(5):\n",
    "            im = axs[i, j].imshow(\n",
    "                sample_digit(target=5 * i + j, X=X, y=y),\n",
    "                vmin=vmin,\n",
    "                vmax=vmax,\n",
    "                cmap=cmap,\n",
    "            )\n",
    "            axs[i, j].axes.xaxis.set_visible(False)\n",
    "            axs[i, j].axes.yaxis.set_visible(False)\n",
    "            if vmin is None or vmax is None:\n",
    "                fig.colorbar(im, ax=axs[i, j], shrink=0.6)\n",
    "    if vmin is not None and vmax is not None:\n",
    "        fig.colorbar(im, ax=axs[:, 4], location=\"right\", shrink=0.6)\n",
    "    plt.show()\n",
    "\n",
    "\n",
    "def do_train_and_evaluate(x_train,\n",
    "                          y_train,\n",
    "                          x_test,\n",
    "                          y_test,\n",
    "                          tuple_size: int,\n",
    "                          input_indexes: List[int] = None,\n",
    "                          shuffle_indexes: bool = True,\n",
    "                          bleach: Union[int, str] = \"auto\",\n",
    "                          **kwargs):\n",
    "    num_classes = len(np.unique(y_train))\n",
    "\n",
    "    print(\" ----- Training model ----- \")            \n",
    "\n",
    "    if input_indexes is None:\n",
    "        input_indexes = np.arange(x_train[0].size)\n",
    "    if shuffle_indexes:\n",
    "        np.random.shuffle(input_indexes)\n",
    "    print(f\"Using input_indexes: {input_indexes}\")\n",
    "\n",
    "    model = WiSARD(num_inputs=x_train[0].size,\n",
    "                   num_classes=num_classes,\n",
    "                   unit_inputs=tuple_size,\n",
    "                   unit_entries=1,\n",
    "                   unit_hashes=1,\n",
    "                   input_idxs=input_indexes,\n",
    "                   shared_rand_vals=False,\n",
    "                   randomize=False)\n",
    "\n",
    "    model.fit(x_train, y_train)\n",
    "    max_bleach = model.max_bleach()\n",
    "    print(f\"Max bleach is: {max_bleach}\\n\")\n",
    "\n",
    "    print(\" ----- Evaluating model ----- \")\n",
    "\n",
    "    if isinstance(bleach, int):\n",
    "        y_pred = model.predict(x_test, y_test, bleach=bleach, use_tqdm=True)\n",
    "        y_pred, ties = untie(y_pred, use_tqdm=False)\n",
    "        accuracy = accuracy_score(y_test, y_pred)\n",
    "        print(f\"Accuracy: {accuracy:.3f}\")\n",
    "    elif bleach == \"auto\":\n",
    "        bleach = find_best_bleach_bin_search(model,\n",
    "                                           X=x_test,\n",
    "                                           y=y_test,\n",
    "                                           min_bleach=1,\n",
    "                                           max_bleach=max_bleach,\n",
    "                                           **kwargs)\n",
    "    else:\n",
    "        raise ValueError(f\"Invalid value for bleach: '{bleach}'\")\n",
    "\n",
    "    return model, bleach"
   ]
  },
  {
   "cell_type": "markdown",
   "id": "fac250c0-4cf8-414e-98f7-3033c6cc5a9b",
   "metadata": {},
   "source": [
    "# MNIST\n",
    "\n",
    "Encoder:\n",
    "- Type: Thermometer\n",
    "- Resolution: 16\n",
    "- Min, max: 0, 255"
   ]
  },
  {
   "cell_type": "code",
   "execution_count": 4,
   "id": "093b5420-a7a4-4e3e-9b7a-0f88235b2579",
   "metadata": {
    "execution": {
     "iopub.execute_input": "2022-08-05T01:28:37.791171Z",
     "iopub.status.busy": "2022-08-05T01:28:37.790970Z",
     "iopub.status.idle": "2022-08-05T01:28:38.089534Z",
     "shell.execute_reply": "2022-08-05T01:28:38.088778Z",
     "shell.execute_reply.started": "2022-08-05T01:28:37.791153Z"
    },
    "tags": []
   },
   "outputs": [
    {
     "data": {
      "text/plain": [
       "array([3588,  174, 1690, ..., 1506, 4094,  409])"
      ]
     },
     "execution_count": 4,
     "metadata": {},
     "output_type": "execute_result"
    }
   ],
   "source": [
    "(x_train, y_train), (x_test, y_test) = mnist.load_data()\n",
    "permutation = np.arange(np.unpackbits(x_train[0]).size)\n",
    "permutation = np.random.permutation(permutation)\n",
    "permutation"
   ]
  },
  {
   "cell_type": "code",
   "execution_count": 5,
   "id": "127b0c3b-ce13-47c5-98c0-502a47e5600d",
   "metadata": {
    "execution": {
     "iopub.execute_input": "2022-08-05T01:28:38.092233Z",
     "iopub.status.busy": "2022-08-05T01:28:38.092017Z",
     "iopub.status.idle": "2022-08-05T01:28:39.037642Z",
     "shell.execute_reply": "2022-08-05T01:28:39.036774Z",
     "shell.execute_reply.started": "2022-08-05T01:28:38.092213Z"
    },
    "tags": []
   },
   "outputs": [
    {
     "name": "stderr",
     "output_type": "stream",
     "text": [
      "100%|████████████████████████████████████████████████████████| 60000/60000 [00:00<00:00, 83219.41it/s]\n",
      "100%|████████████████████████████████████████████████████████| 10000/10000 [00:00<00:00, 83295.68it/s]\n"
     ]
    }
   ],
   "source": [
    "x_train = permute_dataset_bits(x_train, permutation)\n",
    "x_test  = permute_dataset_bits(x_test, permutation)"
   ]
  },
  {
   "cell_type": "code",
   "execution_count": 6,
   "id": "b662dded-371f-4ad3-8303-a08ed1e7af49",
   "metadata": {
    "execution": {
     "iopub.execute_input": "2022-08-05T01:28:39.038734Z",
     "iopub.status.busy": "2022-08-05T01:28:39.038538Z",
     "iopub.status.idle": "2022-08-05T01:28:39.680860Z",
     "shell.execute_reply": "2022-08-05T01:28:39.680067Z",
     "shell.execute_reply.started": "2022-08-05T01:28:39.038715Z"
    },
    "tags": []
   },
   "outputs": [
    {
     "data": {
      "image/png": "[encoded data removed]",
      "text/plain": [
       "<Figure size 1152x576 with 11 Axes>"
      ]
     },
     "metadata": {
      "needs_background": "light"
     },
     "output_type": "display_data"
    }
   ],
   "source": [
    "display_mnist_digits(x_train, y_train, vmin=0, vmax=255)"
   ]
  },
  {
   "cell_type": "code",
   "execution_count": 7,
   "id": "3042f934-46cf-4cee-b5dd-acf86c4f036f",
   "metadata": {
    "execution": {
     "iopub.execute_input": "2022-08-05T01:28:39.681964Z",
     "iopub.status.busy": "2022-08-05T01:28:39.681767Z",
     "iopub.status.idle": "2022-08-05T01:28:47.819778Z",
     "shell.execute_reply": "2022-08-05T01:28:47.819165Z",
     "shell.execute_reply.started": "2022-08-05T01:28:39.681945Z"
    },
    "tags": []
   },
   "outputs": [
    {
     "name": "stderr",
     "output_type": "stream",
     "text": [
      "Encoding dataset: 100%|███████████████████████████████████████| 60000/60000 [00:06<00:00, 9765.21it/s]\n",
      "Encoding dataset: 100%|██████████████████████████████████████| 10000/10000 [00:00<00:00, 12323.68it/s]\n"
     ]
    }
   ],
   "source": [
    "thermometer = ThermometerEncoder(minimum=0, maximum=255, resolution=16)\n",
    "x_train = encode_dataset(thermometer, x_train)\n",
    "x_test = encode_dataset(thermometer, x_test)"
   ]
  },
  {
   "cell_type": "code",
   "execution_count": 8,
   "id": "2fe2c100-9760-4b8d-8a93-e533988fe47c",
   "metadata": {
    "execution": {
     "iopub.execute_input": "2022-08-05T01:28:47.821214Z",
     "iopub.status.busy": "2022-08-05T01:28:47.820582Z",
     "iopub.status.idle": "2022-08-05T02:19:41.872173Z",
     "shell.execute_reply": "2022-08-05T02:19:41.871631Z",
     "shell.execute_reply.started": "2022-08-05T01:28:47.821193Z"
    },
    "tags": []
   },
   "outputs": [
    {
     "name": "stdout",
     "output_type": "stream",
     "text": [
      " ----- Training model ----- \n",
      "Using input_indexes: [    0   784  1568 ... 10975 11759 12543]\n"
     ]
    },
    {
     "name": "stderr",
     "output_type": "stream",
     "text": [
      "Training model: 100%|██████████████████████████████████████████| 60000/60000 [01:01<00:00, 972.64it/s]\n"
     ]
    },
    {
     "name": "stdout",
     "output_type": "stream",
     "text": [
      "Max bleach is: 6738\n",
      "\n",
      " ----- Evaluating model ----- \n",
      "Testing with bleach=1685\n",
      "[b=1685] Accuracy=0.720, ties=77\n",
      "Testing with bleach=3369\n",
      "[b=3369] Accuracy=0.213, ties=43\n",
      "Testing with bleach=5053\n",
      "[b=5053] Accuracy=0.114, ties=0\n",
      "Testing with bleach=843\n",
      "[b=843] Accuracy=0.819, ties=97\n",
      "Testing with bleach=1685\n",
      "[b=1685] Accuracy=0.720\n",
      "Testing with bleach=2527\n",
      "[b=2527] Accuracy=0.477, ties=84\n",
      "Testing with bleach=422\n",
      "[b=422] Accuracy=0.814, ties=147\n",
      "Testing with bleach=843\n",
      "[b=843] Accuracy=0.819\n",
      "Testing with bleach=1264\n",
      "[b=1264] Accuracy=0.797, ties=89\n",
      "Testing with bleach=633\n",
      "[b=633] Accuracy=0.818, ties=98\n",
      "Testing with bleach=843\n",
      "[b=843] Accuracy=0.819\n",
      "Testing with bleach=1053\n",
      "[b=1053] Accuracy=0.817, ties=99\n",
      "Testing with bleach=738\n",
      "[b=738] Accuracy=0.823, ties=94\n",
      "Testing with bleach=843\n",
      "[b=843] Accuracy=0.819\n",
      "Testing with bleach=948\n",
      "[b=948] Accuracy=0.815, ties=81\n",
      "Testing with bleach=686\n",
      "[b=686] Accuracy=0.819, ties=89\n",
      "Testing with bleach=738\n",
      "[b=738] Accuracy=0.823\n",
      "Testing with bleach=790\n",
      "[b=790] Accuracy=0.821, ties=93\n",
      "Testing with bleach=712\n",
      "[b=712] Accuracy=0.822, ties=84\n",
      "Testing with bleach=738\n",
      "[b=738] Accuracy=0.823\n",
      "Testing with bleach=764\n",
      "[b=764] Accuracy=0.822, ties=102\n",
      "Testing with bleach=725\n",
      "[b=725] Accuracy=0.823, ties=80\n",
      "Testing with bleach=738\n",
      "[b=738] Accuracy=0.823\n",
      "Testing with bleach=751\n",
      "[b=751] Accuracy=0.822, ties=96\n",
      "Testing with bleach=732\n",
      "[b=732] Accuracy=0.823, ties=94\n",
      "Testing with bleach=738\n",
      "[b=738] Accuracy=0.823\n",
      "Testing with bleach=744\n",
      "[b=744] Accuracy=0.823, ties=100\n",
      "Testing with bleach=735\n",
      "[b=735] Accuracy=0.824, ties=91\n",
      "Testing with bleach=738\n",
      "[b=738] Accuracy=0.823\n",
      "Testing with bleach=741\n",
      "[b=741] Accuracy=0.824, ties=97\n",
      "Testing with bleach=734\n",
      "[b=734] Accuracy=0.825, ties=90\n",
      "Testing with bleach=735\n",
      "[b=735] Accuracy=0.824\n",
      "Testing with bleach=736\n",
      "[b=736] Accuracy=0.824, ties=99\n",
      "Testing with bleach=733\n",
      "[b=733] Accuracy=0.823, ties=90\n",
      "Testing with bleach=734\n",
      "[b=734] Accuracy=0.825\n",
      "Testing with bleach=735\n",
      "[b=735] Accuracy=0.824\n",
      "Best bleach: 734....\n",
      "Best bleach: 734\n"
     ]
    }
   ],
   "source": [
    "input_size = x_train[0].size\n",
    "input_idxs = np.arange(input_size).reshape(thermometer.resolution, -1).T.ravel()\n",
    "\n",
    "model, bleach = do_train_and_evaluate(x_train,\n",
    "                                      y_train,\n",
    "                                      x_test,\n",
    "                                      y_test,\n",
    "                                      input_indexes=input_idxs,\n",
    "                                      tuple_size=16,\n",
    "                                      shuffle_indexes=False)\n",
    "print(f\"Best bleach: {bleach}\")"
   ]
  },
  {
   "cell_type": "markdown",
   "id": "cd94dde5-c2b8-49e3-904f-59d8200d9ba7",
   "metadata": {},
   "source": [
    "Encoder:\n",
    "- Type: Thermometer\n",
    "- Resolution: 8\n",
    "- Min, max: 0, 255"
   ]
  },
  {
   "cell_type": "code",
   "execution_count": 9,
   "id": "581fa933-6938-41d4-b734-af5107fa498e",
   "metadata": {
    "execution": {
     "iopub.execute_input": "2022-08-05T02:19:41.873823Z",
     "iopub.status.busy": "2022-08-05T02:19:41.872998Z",
     "iopub.status.idle": "2022-08-05T02:19:42.140874Z",
     "shell.execute_reply": "2022-08-05T02:19:42.140063Z",
     "shell.execute_reply.started": "2022-08-05T02:19:41.873801Z"
    }
   },
   "outputs": [
    {
     "data": {
      "text/plain": [
       "array([2466, 6106,  156, ...,  289,  619,  970])"
      ]
     },
     "execution_count": 9,
     "metadata": {},
     "output_type": "execute_result"
    }
   ],
   "source": [
    "(x_train, y_train), (x_test, y_test) = mnist.load_data()\n",
    "permutation = np.arange(np.unpackbits(x_train[0]).size)\n",
    "permutation = np.random.permutation(permutation)\n",
    "permutation"
   ]
  },
  {
   "cell_type": "code",
   "execution_count": 10,
   "id": "f8ef458e-cfc6-4230-ac69-885804ddd12a",
   "metadata": {
    "execution": {
     "iopub.execute_input": "2022-08-05T02:19:42.142103Z",
     "iopub.status.busy": "2022-08-05T02:19:42.141898Z",
     "iopub.status.idle": "2022-08-05T02:19:43.071343Z",
     "shell.execute_reply": "2022-08-05T02:19:43.070460Z",
     "shell.execute_reply.started": "2022-08-05T02:19:42.142084Z"
    }
   },
   "outputs": [
    {
     "name": "stderr",
     "output_type": "stream",
     "text": [
      "100%|████████████████████████████████████████████████████████| 60000/60000 [00:00<00:00, 84292.26it/s]\n",
      "100%|████████████████████████████████████████████████████████| 10000/10000 [00:00<00:00, 79750.38it/s]\n"
     ]
    }
   ],
   "source": [
    "x_train = permute_dataset_bits(x_train, permutation)\n",
    "x_test  = permute_dataset_bits(x_test, permutation)"
   ]
  },
  {
   "cell_type": "code",
   "execution_count": 11,
   "id": "ff78c6a3-35d5-4b9b-acff-00c5c768f338",
   "metadata": {
    "execution": {
     "iopub.execute_input": "2022-08-05T02:19:43.072496Z",
     "iopub.status.busy": "2022-08-05T02:19:43.072298Z",
     "iopub.status.idle": "2022-08-05T02:19:47.601419Z",
     "shell.execute_reply": "2022-08-05T02:19:47.600512Z",
     "shell.execute_reply.started": "2022-08-05T02:19:43.072478Z"
    }
   },
   "outputs": [
    {
     "name": "stderr",
     "output_type": "stream",
     "text": [
      "Encoding dataset: 100%|██████████████████████████████████████| 60000/60000 [00:03<00:00, 17689.07it/s]\n",
      "Encoding dataset: 100%|██████████████████████████████████████| 10000/10000 [00:00<00:00, 19576.75it/s]\n"
     ]
    }
   ],
   "source": [
    "thermometer = ThermometerEncoder(minimum=0, maximum=255, resolution=8)\n",
    "x_train = encode_dataset(thermometer, x_train)\n",
    "x_test = encode_dataset(thermometer, x_test)"
   ]
  },
  {
   "cell_type": "code",
   "execution_count": 12,
   "id": "877dd947-8519-4c81-8564-7adde8697b38",
   "metadata": {
    "execution": {
     "iopub.execute_input": "2022-08-05T02:19:47.602971Z",
     "iopub.status.busy": "2022-08-05T02:19:47.602625Z",
     "iopub.status.idle": "2022-08-05T02:45:11.449554Z",
     "shell.execute_reply": "2022-08-05T02:45:11.448691Z",
     "shell.execute_reply.started": "2022-08-05T02:19:47.602950Z"
    }
   },
   "outputs": [
    {
     "name": "stdout",
     "output_type": "stream",
     "text": [
      " ----- Training model ----- \n",
      "Using input_indexes: [   0  784 1568 ... 4703 5487 6271]\n"
     ]
    },
    {
     "name": "stderr",
     "output_type": "stream",
     "text": [
      "Training model: 100%|█████████████████████████████████████████| 60000/60000 [00:30<00:00, 1938.91it/s]\n"
     ]
    },
    {
     "name": "stdout",
     "output_type": "stream",
     "text": [
      "Max bleach is: 6663\n",
      "\n",
      " ----- Evaluating model ----- \n",
      "Testing with bleach=1666\n",
      "[b=1666] Accuracy=0.512, ties=179\n",
      "Testing with bleach=3331\n",
      "[b=3331] Accuracy=0.131, ties=124\n",
      "Testing with bleach=4996\n",
      "[b=4996] Accuracy=0.116, ties=169\n",
      "Testing with bleach=834\n",
      "[b=834] Accuracy=0.749, ties=104\n",
      "Testing with bleach=1666\n",
      "[b=1666] Accuracy=0.512\n",
      "Testing with bleach=2498\n",
      "[b=2498] Accuracy=0.243, ties=175\n",
      "Testing with bleach=418\n",
      "[b=418] Accuracy=0.843, ties=92\n",
      "Testing with bleach=834\n",
      "[b=834] Accuracy=0.749\n",
      "Testing with bleach=1250\n",
      "[b=1250] Accuracy=0.639, ties=172\n",
      "Testing with bleach=210\n",
      "[b=210] Accuracy=0.850, ties=130\n",
      "Testing with bleach=418\n",
      "[b=418] Accuracy=0.843\n",
      "Testing with bleach=626\n",
      "[b=626] Accuracy=0.803, ties=99\n",
      "Testing with bleach=106\n",
      "[b=106] Accuracy=0.840, ties=244\n",
      "Testing with bleach=210\n",
      "[b=210] Accuracy=0.850\n",
      "Testing with bleach=314\n",
      "[b=314] Accuracy=0.850, ties=110\n",
      "Testing with bleach=262\n",
      "[b=262] Accuracy=0.853, ties=106\n",
      "Testing with bleach=314\n",
      "[b=314] Accuracy=0.850\n",
      "Testing with bleach=366\n",
      "[b=366] Accuracy=0.846, ties=87\n",
      "Testing with bleach=236\n",
      "[b=236] Accuracy=0.854, ties=105\n",
      "Testing with bleach=262\n",
      "[b=262] Accuracy=0.853\n",
      "Testing with bleach=288\n",
      "[b=288] Accuracy=0.854, ties=105\n",
      "Testing with bleach=223\n",
      "[b=223] Accuracy=0.851, ties=122\n",
      "Testing with bleach=236\n",
      "[b=236] Accuracy=0.854\n",
      "Testing with bleach=249\n",
      "[b=249] Accuracy=0.854, ties=127\n",
      "Testing with bleach=230\n",
      "[b=230] Accuracy=0.855, ties=121\n",
      "Testing with bleach=236\n",
      "[b=236] Accuracy=0.854\n",
      "Testing with bleach=242\n",
      "[b=242] Accuracy=0.852, ties=109\n",
      "Testing with bleach=227\n",
      "[b=227] Accuracy=0.854, ties=120\n",
      "Testing with bleach=230\n",
      "[b=230] Accuracy=0.855\n",
      "Testing with bleach=233\n",
      "[b=233] Accuracy=0.854, ties=114\n",
      "Testing with bleach=229\n",
      "[b=229] Accuracy=0.855, ties=119\n",
      "Testing with bleach=230\n",
      "[b=230] Accuracy=0.855\n",
      "Testing with bleach=231\n",
      "[b=231] Accuracy=0.855, ties=119\n",
      "Testing with bleach=230\n",
      "[b=230] Accuracy=0.855\n",
      "Testing with bleach=231\n",
      "[b=231] Accuracy=0.855\n",
      "Testing with bleach=232\n",
      "[b=232] Accuracy=0.854, ties=109\n",
      "Best bleach: 231....\n",
      "Best bleach: 231\n"
     ]
    }
   ],
   "source": [
    "input_size = x_train[0].size\n",
    "input_idxs = np.arange(input_size).reshape(thermometer.resolution, -1).T.ravel()\n",
    "\n",
    "model, bleach = do_train_and_evaluate(x_train,\n",
    "                                      y_train,\n",
    "                                      x_test,\n",
    "                                      y_test,\n",
    "                                      input_indexes=input_idxs,\n",
    "                                      tuple_size=8,\n",
    "                                      shuffle_indexes=False)\n",
    "print(f\"Best bleach: {bleach}\")"
   ]
  },
  {
   "cell_type": "markdown",
   "id": "c93fa732-6ab4-4718-92b4-fdb8b774a9f5",
   "metadata": {
    "execution": {
     "iopub.execute_input": "2022-08-05T10:37:20.259224Z",
     "iopub.status.busy": "2022-08-05T10:37:20.258891Z",
     "iopub.status.idle": "2022-08-05T10:37:20.293461Z",
     "shell.execute_reply": "2022-08-05T10:37:20.292624Z",
     "shell.execute_reply.started": "2022-08-05T10:37:20.259204Z"
    },
    "tags": []
   },
   "source": [
    "Encoder:\n",
    "- Type: Thermometer\n",
    "- Resolution: 24\n",
    "- Min, max: 0, 255"
   ]
  },
  {
   "cell_type": "code",
   "execution_count": 25,
   "id": "7c92eb62-2df2-4a4a-9833-0d6475547a45",
   "metadata": {
    "execution": {
     "iopub.execute_input": "2022-08-05T10:55:34.726939Z",
     "iopub.status.busy": "2022-08-05T10:55:34.726656Z",
     "iopub.status.idle": "2022-08-05T11:56:47.789578Z",
     "shell.execute_reply": "2022-08-05T11:56:47.789054Z",
     "shell.execute_reply.started": "2022-08-05T10:55:34.726919Z"
    },
    "tags": []
   },
   "outputs": [
    {
     "name": "stderr",
     "output_type": "stream",
     "text": [
      "100%|████████████████████████████████████████████████████████| 60000/60000 [00:00<00:00, 83782.50it/s]\n",
      "100%|████████████████████████████████████████████████████████| 10000/10000 [00:00<00:00, 83338.21it/s]\n",
      "Encoding dataset: 100%|███████████████████████████████████████| 60000/60000 [00:07<00:00, 7553.87it/s]\n",
      "Encoding dataset: 100%|███████████████████████████████████████| 10000/10000 [00:01<00:00, 8379.04it/s]\n"
     ]
    },
    {
     "name": "stdout",
     "output_type": "stream",
     "text": [
      " ----- Training model ----- \n",
      "Using input_indexes: [    0   784  1568 ... 17247 18031 18815]\n"
     ]
    },
    {
     "name": "stderr",
     "output_type": "stream",
     "text": [
      "Training model: 100%|██████████████████████████████████████████| 60000/60000 [01:08<00:00, 875.90it/s]\n"
     ]
    },
    {
     "name": "stdout",
     "output_type": "stream",
     "text": [
      "Max bleach is: 6741\n",
      "\n",
      " ----- Evaluating model ----- \n",
      "Testing with bleach=1685\n",
      "[b=1685] Accuracy=0.688, ties=85\n",
      "Testing with bleach=3370\n",
      "[b=3370] Accuracy=0.163, ties=25\n",
      "Testing with bleach=5055\n",
      "[b=5055] Accuracy=0.114, ties=0\n",
      "Testing with bleach=843\n",
      "[b=843] Accuracy=0.820, ties=79\n",
      "Testing with bleach=1685\n",
      "[b=1685] Accuracy=0.688\n",
      "Testing with bleach=2527\n",
      "[b=2527] Accuracy=0.419, ties=96\n",
      "Testing with bleach=422\n",
      "[b=422] Accuracy=0.797, ties=138\n",
      "Testing with bleach=843\n",
      "[b=843] Accuracy=0.820\n",
      "Testing with bleach=1264\n",
      "[b=1264] Accuracy=0.785, ties=73\n",
      "Testing with bleach=633\n",
      "[b=633] Accuracy=0.805, ties=95\n",
      "Testing with bleach=843\n",
      "[b=843] Accuracy=0.820\n",
      "Testing with bleach=1053\n",
      "[b=1053] Accuracy=0.818, ties=69\n",
      "Testing with bleach=738\n",
      "[b=738] Accuracy=0.814, ties=84\n",
      "Testing with bleach=843\n",
      "[b=843] Accuracy=0.820\n",
      "Testing with bleach=948\n",
      "[b=948] Accuracy=0.823, ties=74\n",
      "Testing with bleach=896\n",
      "[b=896] Accuracy=0.823, ties=67\n",
      "Testing with bleach=948\n",
      "[b=948] Accuracy=0.823\n",
      "Testing with bleach=1000\n",
      "[b=1000] Accuracy=0.820, ties=76\n",
      "Testing with bleach=870\n",
      "[b=870] Accuracy=0.822, ties=78\n",
      "Testing with bleach=896\n",
      "[b=896] Accuracy=0.823\n",
      "Testing with bleach=922\n",
      "[b=922] Accuracy=0.825, ties=66\n",
      "Testing with bleach=909\n",
      "[b=909] Accuracy=0.825, ties=78\n",
      "Testing with bleach=922\n",
      "[b=922] Accuracy=0.825\n",
      "Testing with bleach=935\n",
      "[b=935] Accuracy=0.824, ties=76\n",
      "Testing with bleach=903\n",
      "[b=903] Accuracy=0.824, ties=88\n",
      "Testing with bleach=909\n",
      "[b=909] Accuracy=0.825\n",
      "Testing with bleach=915\n",
      "[b=915] Accuracy=0.824, ties=69\n",
      "Testing with bleach=906\n",
      "[b=906] Accuracy=0.824, ties=70\n",
      "Testing with bleach=909\n",
      "[b=909] Accuracy=0.825\n",
      "Testing with bleach=912\n",
      "[b=912] Accuracy=0.825, ties=89\n",
      "Testing with bleach=908\n",
      "[b=908] Accuracy=0.824, ties=76\n",
      "Testing with bleach=909\n",
      "[b=909] Accuracy=0.825\n",
      "Testing with bleach=910\n",
      "[b=910] Accuracy=0.826, ties=76\n",
      "Testing with bleach=909\n",
      "[b=909] Accuracy=0.825\n",
      "Testing with bleach=910\n",
      "[b=910] Accuracy=0.826\n",
      "Testing with bleach=911\n",
      "[b=911] Accuracy=0.826, ties=87\n",
      "Best bleach: 910....\n",
      "Best bleach: 910\n"
     ]
    }
   ],
   "source": [
    "resolution = 24\n",
    "tuple_size = 24\n",
    "\n",
    "(x_train, y_train), (x_test, y_test) = mnist.load_data()\n",
    "permutation = np.arange(np.unpackbits(x_train[0]).size)\n",
    "permutation = np.random.permutation(permutation)\n",
    "permutation\n",
    "\n",
    "x_train = permute_dataset_bits(x_train, permutation)\n",
    "x_test  = permute_dataset_bits(x_test, permutation)\n",
    "\n",
    "thermometer = ThermometerEncoder(minimum=0, maximum=255, resolution=resolution)\n",
    "x_train = encode_dataset(thermometer, x_train)\n",
    "x_test = encode_dataset(thermometer, x_test)\n",
    "\n",
    "input_size = x_train[0].size\n",
    "input_idxs = np.arange(input_size).reshape(thermometer.resolution, -1).T.ravel()\n",
    "\n",
    "model, bleach = do_train_and_evaluate(x_train,\n",
    "                                      y_train,\n",
    "                                      x_test,\n",
    "                                      y_test,\n",
    "                                      input_indexes=input_idxs,\n",
    "                                      tuple_size=tuple_size,\n",
    "                                      shuffle_indexes=False)\n",
    "print(f\"Best bleach: {bleach}\")"
   ]
  },
  {
   "cell_type": "markdown",
   "id": "c2df5ea6-3a2e-43d7-8b92-90c3f0525650",
   "metadata": {},
   "source": [
    "# Fashion MIST\n",
    "\n",
    "Encoder:\n",
    "- Type: Thermometer\n",
    "- Resolution: 16\n",
    "- Min, max: 0, 255"
   ]
  },
  {
   "cell_type": "code",
   "execution_count": 13,
   "id": "3dc44374-165c-4150-811a-016a86c3098b",
   "metadata": {
    "execution": {
     "iopub.execute_input": "2022-08-05T02:45:11.450640Z",
     "iopub.status.busy": "2022-08-05T02:45:11.450447Z",
     "iopub.status.idle": "2022-08-05T02:45:11.807366Z",
     "shell.execute_reply": "2022-08-05T02:45:11.806635Z",
     "shell.execute_reply.started": "2022-08-05T02:45:11.450622Z"
    }
   },
   "outputs": [
    {
     "data": {
      "text/plain": [
       "array([5971, 3666, 5398, ..., 3739, 1383, 3964])"
      ]
     },
     "execution_count": 13,
     "metadata": {},
     "output_type": "execute_result"
    }
   ],
   "source": [
    "(x_train, y_train), (x_test, y_test) = fashion_mnist.load_data()\n",
    "permutation = np.arange(np.unpackbits(x_train[0]).size)\n",
    "permutation = np.random.permutation(permutation)\n",
    "permutation"
   ]
  },
  {
   "cell_type": "code",
   "execution_count": 14,
   "id": "f75ee6fe-3b94-48d7-9c6c-d319aefde0ac",
   "metadata": {
    "execution": {
     "iopub.execute_input": "2022-08-05T02:45:11.808697Z",
     "iopub.status.busy": "2022-08-05T02:45:11.808493Z",
     "iopub.status.idle": "2022-08-05T02:45:12.722511Z",
     "shell.execute_reply": "2022-08-05T02:45:12.721671Z",
     "shell.execute_reply.started": "2022-08-05T02:45:11.808679Z"
    }
   },
   "outputs": [
    {
     "name": "stderr",
     "output_type": "stream",
     "text": [
      "100%|████████████████████████████████████████████████████████| 60000/60000 [00:00<00:00, 84997.22it/s]\n",
      "100%|████████████████████████████████████████████████████████| 10000/10000 [00:00<00:00, 83494.16it/s]\n"
     ]
    }
   ],
   "source": [
    "x_train = permute_dataset_bits(x_train, permutation)\n",
    "x_test  = permute_dataset_bits(x_test, permutation)"
   ]
  },
  {
   "cell_type": "code",
   "execution_count": 15,
   "id": "f9564169-f0ca-49d4-af62-c888a44d746d",
   "metadata": {
    "execution": {
     "iopub.execute_input": "2022-08-05T02:45:12.723792Z",
     "iopub.status.busy": "2022-08-05T02:45:12.723590Z",
     "iopub.status.idle": "2022-08-05T02:45:13.233743Z",
     "shell.execute_reply": "2022-08-05T02:45:13.232981Z",
     "shell.execute_reply.started": "2022-08-05T02:45:12.723774Z"
    }
   },
   "outputs": [
    {
     "data": {
      "image/png": "[encoded data removed]",
      "text/plain": [
       "<Figure size 1152x576 with 11 Axes>"
      ]
     },
     "metadata": {
      "needs_background": "light"
     },
     "output_type": "display_data"
    }
   ],
   "source": [
    "display_mnist_digits(x_train, y_train, vmin=0, vmax=255)"
   ]
  },
  {
   "cell_type": "code",
   "execution_count": 16,
   "id": "58f0b41e-a293-43f0-9bc8-856885877fdf",
   "metadata": {
    "execution": {
     "iopub.execute_input": "2022-08-05T02:45:13.234905Z",
     "iopub.status.busy": "2022-08-05T02:45:13.234702Z",
     "iopub.status.idle": "2022-08-05T02:45:20.030768Z",
     "shell.execute_reply": "2022-08-05T02:45:20.030063Z",
     "shell.execute_reply.started": "2022-08-05T02:45:13.234886Z"
    }
   },
   "outputs": [
    {
     "name": "stderr",
     "output_type": "stream",
     "text": [
      "Encoding dataset: 100%|██████████████████████████████████████| 60000/60000 [00:04<00:00, 12293.34it/s]\n",
      "Encoding dataset: 100%|██████████████████████████████████████| 10000/10000 [00:00<00:00, 13073.52it/s]\n"
     ]
    }
   ],
   "source": [
    "thermometer = ThermometerEncoder(minimum=0, maximum=255, resolution=16)\n",
    "x_train = encode_dataset(thermometer, x_train)\n",
    "x_test = encode_dataset(thermometer, x_test)"
   ]
  },
  {
   "cell_type": "code",
   "execution_count": 17,
   "id": "a16cd070-89e5-479e-a35d-4e97e852c1b2",
   "metadata": {
    "execution": {
     "iopub.execute_input": "2022-08-05T02:45:20.031764Z",
     "iopub.status.busy": "2022-08-05T02:45:20.031572Z",
     "iopub.status.idle": "2022-08-05T04:18:51.121756Z",
     "shell.execute_reply": "2022-08-05T04:18:51.121233Z",
     "shell.execute_reply.started": "2022-08-05T02:45:20.031745Z"
    }
   },
   "outputs": [
    {
     "name": "stdout",
     "output_type": "stream",
     "text": [
      " ----- Training model ----- \n",
      "Using input_indexes: [    0   784  1568 ... 10975 11759 12543]\n"
     ]
    },
    {
     "name": "stderr",
     "output_type": "stream",
     "text": [
      "Training model: 100%|██████████████████████████████████████████| 60000/60000 [01:50<00:00, 542.07it/s]\n"
     ]
    },
    {
     "name": "stdout",
     "output_type": "stream",
     "text": [
      "Max bleach is: 6000\n",
      "\n",
      " ----- Evaluating model ----- \n",
      "Testing with bleach=1500\n",
      "[b=1500] Accuracy=0.630, ties=95\n",
      "Testing with bleach=3000\n",
      "[b=3000] Accuracy=0.444, ties=177\n",
      "Testing with bleach=4500\n",
      "[b=4500] Accuracy=0.266, ties=139\n",
      "Testing with bleach=750\n",
      "[b=750] Accuracy=0.719, ties=98\n",
      "Testing with bleach=1500\n",
      "[b=1500] Accuracy=0.630\n",
      "Testing with bleach=2250\n",
      "[b=2250] Accuracy=0.468, ties=124\n",
      "Testing with bleach=375\n",
      "[b=375] Accuracy=0.658, ties=136\n",
      "Testing with bleach=750\n",
      "[b=750] Accuracy=0.719\n",
      "Testing with bleach=1125\n",
      "[b=1125] Accuracy=0.685, ties=80\n",
      "Testing with bleach=563\n",
      "[b=563] Accuracy=0.695, ties=102\n",
      "Testing with bleach=750\n",
      "[b=750] Accuracy=0.719\n",
      "Testing with bleach=937\n",
      "[b=937] Accuracy=0.707, ties=69\n",
      "Testing with bleach=657\n",
      "[b=657] Accuracy=0.714, ties=110\n",
      "Testing with bleach=750\n",
      "[b=750] Accuracy=0.719\n",
      "Testing with bleach=843\n",
      "[b=843] Accuracy=0.714, ties=92\n",
      "Testing with bleach=704\n",
      "[b=704] Accuracy=0.716, ties=88\n",
      "Testing with bleach=750\n",
      "[b=750] Accuracy=0.719\n",
      "Testing with bleach=796\n",
      "[b=796] Accuracy=0.721, ties=94\n",
      "Testing with bleach=773\n",
      "[b=773] Accuracy=0.721, ties=78\n",
      "Testing with bleach=796\n",
      "[b=796] Accuracy=0.721\n",
      "Testing with bleach=819\n",
      "[b=819] Accuracy=0.716, ties=78\n",
      "Testing with bleach=762\n",
      "[b=762] Accuracy=0.720, ties=81\n",
      "Testing with bleach=773\n",
      "[b=773] Accuracy=0.721\n",
      "Testing with bleach=784\n",
      "[b=784] Accuracy=0.722, ties=72\n",
      "Testing with bleach=779\n",
      "[b=779] Accuracy=0.721, ties=60\n",
      "Testing with bleach=784\n",
      "[b=784] Accuracy=0.722\n",
      "Testing with bleach=789\n",
      "[b=789] Accuracy=0.721, ties=86\n",
      "Testing with bleach=782\n",
      "[b=782] Accuracy=0.721, ties=76\n",
      "Testing with bleach=784\n",
      "[b=784] Accuracy=0.722\n",
      "Testing with bleach=786\n",
      "[b=786] Accuracy=0.721, ties=87\n",
      "Testing with bleach=783\n",
      "[b=783] Accuracy=0.722, ties=91\n",
      "Testing with bleach=784\n",
      "[b=784] Accuracy=0.722\n",
      "Testing with bleach=785\n",
      "[b=785] Accuracy=0.722, ties=87\n",
      "Testing with bleach=782\n",
      "[b=782] Accuracy=0.721\n",
      "Testing with bleach=783\n",
      "[b=783] Accuracy=0.722\n",
      "Testing with bleach=784\n",
      "[b=784] Accuracy=0.722\n",
      "Best bleach: 783....\n",
      "Best bleach: 783\n"
     ]
    }
   ],
   "source": [
    "input_size = x_train[0].size\n",
    "input_idxs = np.arange(input_size).reshape(thermometer.resolution, -1).T.ravel()\n",
    "\n",
    "model, bleach = do_train_and_evaluate(x_train,\n",
    "                                      y_train,\n",
    "                                      x_test,\n",
    "                                      y_test,\n",
    "                                      input_indexes=input_idxs,\n",
    "                                      tuple_size=16,\n",
    "                                      shuffle_indexes=False)\n",
    "print(f\"Best bleach: {bleach}\")"
   ]
  },
  {
   "cell_type": "markdown",
   "id": "3687db3b-3e6e-48e0-b1f7-31de7fdfb5ec",
   "metadata": {},
   "source": [
    "Encoder:\n",
    "- Type: Thermometer\n",
    "- Resolution: 8\n",
    "- Min, max: 0, 255"
   ]
  },
  {
   "cell_type": "code",
   "execution_count": 18,
   "id": "7d56e91d-40d8-45fd-bcfa-cb28e2b5629e",
   "metadata": {
    "execution": {
     "iopub.execute_input": "2022-08-05T04:18:51.123285Z",
     "iopub.status.busy": "2022-08-05T04:18:51.122550Z",
     "iopub.status.idle": "2022-08-05T04:18:51.480962Z",
     "shell.execute_reply": "2022-08-05T04:18:51.480441Z",
     "shell.execute_reply.started": "2022-08-05T04:18:51.123264Z"
    }
   },
   "outputs": [
    {
     "data": {
      "text/plain": [
       "array([5890,   66, 5314, ...,  457, 1975, 2001])"
      ]
     },
     "execution_count": 18,
     "metadata": {},
     "output_type": "execute_result"
    }
   ],
   "source": [
    "(x_train, y_train), (x_test, y_test) = fashion_mnist.load_data()\n",
    "permutation = np.arange(np.unpackbits(x_train[0]).size)\n",
    "permutation = np.random.permutation(permutation)\n",
    "permutation"
   ]
  },
  {
   "cell_type": "code",
   "execution_count": 19,
   "id": "e06b171e-4d1c-4397-b546-aa62b821f17c",
   "metadata": {
    "execution": {
     "iopub.execute_input": "2022-08-05T04:18:51.485137Z",
     "iopub.status.busy": "2022-08-05T04:18:51.484568Z",
     "iopub.status.idle": "2022-08-05T04:18:52.402605Z",
     "shell.execute_reply": "2022-08-05T04:18:52.401569Z",
     "shell.execute_reply.started": "2022-08-05T04:18:51.485116Z"
    }
   },
   "outputs": [
    {
     "name": "stderr",
     "output_type": "stream",
     "text": [
      "100%|████████████████████████████████████████████████████████| 60000/60000 [00:00<00:00, 84186.26it/s]\n",
      "100%|████████████████████████████████████████████████████████| 10000/10000 [00:00<00:00, 83937.95it/s]\n"
     ]
    }
   ],
   "source": [
    "x_train = permute_dataset_bits(x_train, permutation)\n",
    "x_test  = permute_dataset_bits(x_test, permutation)"
   ]
  },
  {
   "cell_type": "code",
   "execution_count": 20,
   "id": "e7aa7cf0-1f93-4451-abd0-a70a96dfc54c",
   "metadata": {
    "execution": {
     "iopub.execute_input": "2022-08-05T04:18:52.403714Z",
     "iopub.status.busy": "2022-08-05T04:18:52.403514Z",
     "iopub.status.idle": "2022-08-05T04:18:56.549624Z",
     "shell.execute_reply": "2022-08-05T04:18:56.548782Z",
     "shell.execute_reply.started": "2022-08-05T04:18:52.403695Z"
    }
   },
   "outputs": [
    {
     "name": "stderr",
     "output_type": "stream",
     "text": [
      "Encoding dataset: 100%|██████████████████████████████████████| 60000/60000 [00:03<00:00, 19861.59it/s]\n",
      "Encoding dataset: 100%|██████████████████████████████████████| 10000/10000 [00:00<00:00, 20247.83it/s]\n"
     ]
    }
   ],
   "source": [
    "thermometer = ThermometerEncoder(minimum=0, maximum=255, resolution=8)\n",
    "x_train = encode_dataset(thermometer, x_train)\n",
    "x_test = encode_dataset(thermometer, x_test)"
   ]
  },
  {
   "cell_type": "code",
   "execution_count": 21,
   "id": "d72304fc-f5a8-41b7-82d8-e92df2f69f42",
   "metadata": {
    "execution": {
     "iopub.execute_input": "2022-08-05T04:18:56.550765Z",
     "iopub.status.busy": "2022-08-05T04:18:56.550569Z",
     "iopub.status.idle": "2022-08-05T05:05:07.545460Z",
     "shell.execute_reply": "2022-08-05T05:05:07.544464Z",
     "shell.execute_reply.started": "2022-08-05T04:18:56.550746Z"
    },
    "tags": []
   },
   "outputs": [
    {
     "name": "stdout",
     "output_type": "stream",
     "text": [
      " ----- Training model ----- \n",
      "Using input_indexes: [   0  784 1568 ... 4703 5487 6271]\n"
     ]
    },
    {
     "name": "stderr",
     "output_type": "stream",
     "text": [
      "Training model: 100%|█████████████████████████████████████████| 60000/60000 [00:55<00:00, 1078.07it/s]\n"
     ]
    },
    {
     "name": "stdout",
     "output_type": "stream",
     "text": [
      "Max bleach is: 5909\n",
      "\n",
      " ----- Evaluating model ----- \n",
      "Testing with bleach=1477\n",
      "[b=1477] Accuracy=0.581, ties=128\n",
      "Testing with bleach=2954\n",
      "[b=2954] Accuracy=0.234, ties=70\n",
      "Testing with bleach=4431\n",
      "[b=4431] Accuracy=0.251, ties=235\n",
      "Testing with bleach=739\n",
      "[b=739] Accuracy=0.667, ties=124\n",
      "Testing with bleach=1477\n",
      "[b=1477] Accuracy=0.581\n",
      "Testing with bleach=2215\n",
      "[b=2215] Accuracy=0.319, ties=108\n",
      "Testing with bleach=370\n",
      "[b=370] Accuracy=0.652, ties=229\n",
      "Testing with bleach=739\n",
      "[b=739] Accuracy=0.667\n",
      "Testing with bleach=1108\n",
      "[b=1108] Accuracy=0.682, ties=128\n",
      "Testing with bleach=924\n",
      "[b=924] Accuracy=0.697, ties=123\n",
      "Testing with bleach=1108\n",
      "[b=1108] Accuracy=0.682\n",
      "Testing with bleach=1292\n",
      "[b=1292] Accuracy=0.646, ties=123\n",
      "Testing with bleach=832\n",
      "[b=832] Accuracy=0.691, ties=133\n",
      "Testing with bleach=924\n",
      "[b=924] Accuracy=0.697\n",
      "Testing with bleach=1016\n",
      "[b=1016] Accuracy=0.698, ties=136\n",
      "Testing with bleach=970\n",
      "[b=970] Accuracy=0.694, ties=122\n",
      "Testing with bleach=1016\n",
      "[b=1016] Accuracy=0.698\n",
      "Testing with bleach=1062\n",
      "[b=1062] Accuracy=0.693, ties=120\n",
      "Testing with bleach=993\n",
      "[b=993] Accuracy=0.695, ties=101\n",
      "Testing with bleach=1016\n",
      "[b=1016] Accuracy=0.698\n",
      "Testing with bleach=1039\n",
      "[b=1039] Accuracy=0.693, ties=111\n",
      "Testing with bleach=1005\n",
      "[b=1005] Accuracy=0.692, ties=108\n",
      "Testing with bleach=1016\n",
      "[b=1016] Accuracy=0.698\n",
      "Testing with bleach=1027\n",
      "[b=1027] Accuracy=0.694, ties=120\n",
      "Testing with bleach=1011\n",
      "[b=1011] Accuracy=0.694, ties=103\n",
      "Testing with bleach=1016\n",
      "[b=1016] Accuracy=0.698\n",
      "Testing with bleach=1021\n",
      "[b=1021] Accuracy=0.697, ties=113\n",
      "Testing with bleach=1014\n",
      "[b=1014] Accuracy=0.696, ties=114\n",
      "Testing with bleach=1016\n",
      "[b=1016] Accuracy=0.698\n",
      "Testing with bleach=1018\n",
      "[b=1018] Accuracy=0.698, ties=119\n",
      "Testing with bleach=1015\n",
      "[b=1015] Accuracy=0.697, ties=121\n",
      "Testing with bleach=1016\n",
      "[b=1016] Accuracy=0.698\n",
      "Testing with bleach=1017\n",
      "[b=1017] Accuracy=0.696, ties=136\n",
      "Best bleach: 1016....\n",
      "Best bleach: 1016\n"
     ]
    }
   ],
   "source": [
    "input_size = x_train[0].size\n",
    "input_idxs = np.arange(input_size).reshape(thermometer.resolution, -1).T.ravel()\n",
    "\n",
    "model, bleach = do_train_and_evaluate(x_train,\n",
    "                                      y_train,\n",
    "                                      x_test,\n",
    "                                      y_test,\n",
    "                                      input_indexes=input_idxs,\n",
    "                                      tuple_size=8,\n",
    "                                      shuffle_indexes=False)\n",
    "print(f\"Best bleach: {bleach}\")"
   ]
  },
  {
   "cell_type": "code",
   "execution_count": null,
   "id": "82edc553-18f4-4ec4-a6d6-78c0cca2e896",
   "metadata": {},
   "outputs": [],
   "source": []
  }
 ],
 "metadata": {
  "kernelspec": {
   "display_name": "Python 3 (ipykernel)",
   "language": "python",
   "name": "python3"
  },
  "language_info": {
   "codemirror_mode": {
    "name": "ipython",
    "version": 3
   },
   "file_extension": ".py",
   "mimetype": "text/x-python",
   "name": "python",
   "nbconvert_exporter": "python",
   "pygments_lexer": "ipython3",
   "version": "3.9.13"
  }
 },
 "nbformat": 4,
 "nbformat_minor": 5
}
