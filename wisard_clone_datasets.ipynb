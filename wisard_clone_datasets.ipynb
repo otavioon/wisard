{
 "cells": [
  {
   "cell_type": "code",
   "execution_count": 1,
   "id": "e86b1944-7ff1-4c60-9ca6-f17d406de6b3",
   "metadata": {
    "execution": {
     "iopub.execute_input": "2022-08-05T12:32:37.849384Z",
     "iopub.status.busy": "2022-08-05T12:32:37.849213Z",
     "iopub.status.idle": "2022-08-05T12:32:37.861717Z",
     "shell.execute_reply": "2022-08-05T12:32:37.861197Z",
     "shell.execute_reply.started": "2022-08-05T12:32:37.849365Z"
    },
    "tags": []
   },
   "outputs": [],
   "source": [
    "%load_ext autoreload\n",
    "%autoreload 2"
   ]
  },
  {
   "cell_type": "code",
   "execution_count": 2,
   "id": "f36d5008-d579-4a9d-93a2-441c924d446f",
   "metadata": {
    "execution": {
     "iopub.execute_input": "2022-08-05T12:32:37.862688Z",
     "iopub.status.busy": "2022-08-05T12:32:37.862437Z",
     "iopub.status.idle": "2022-08-05T12:32:40.810093Z",
     "shell.execute_reply": "2022-08-05T12:32:40.809236Z",
     "shell.execute_reply.started": "2022-08-05T12:32:37.862670Z"
    },
    "tags": []
   },
   "outputs": [
    {
     "name": "stderr",
     "output_type": "stream",
     "text": [
      "2022-08-05 12:32:39.212574: W tensorflow/stream_executor/platform/default/dso_loader.cc:64] Could not load dynamic library 'libcudart.so.11.0'; dlerror: libcudart.so.11.0: cannot open shared object file: No such file or directory\n",
      "2022-08-05 12:32:39.212629: I tensorflow/stream_executor/cuda/cudart_stub.cc:29] Ignore above cudart dlerror if you do not have a GPU set up on your machine.\n"
     ]
    }
   ],
   "source": [
    "import random\n",
    "import sys\n",
    "from typing import List, Union\n",
    "\n",
    "import matplotlib.pyplot as plt\n",
    "import numpy as np\n",
    "import tqdm\n",
    "from sklearn.model_selection import train_test_split\n",
    "from sklearn.metrics import accuracy_score, classification_report\n",
    "from sklearn.datasets import load_iris\n",
    "from sklearn.model_selection import train_test_split\n",
    "\n",
    "from wisard.encoders import ThermometerEncoder, encode_dataset\n",
    "from wisard.wisard import WiSARD, model_from_coded_mental_image\n",
    "from wisard.utils import untie, get_random_permutation, permute_dataset_bits\n",
    "from wisard.optimize import find_best_bleach_bayesian, find_best_bleach_bin_search\n",
    "\n",
    "from wisard.data import IrisDataset\n",
    "from keras.datasets import mnist, fashion_mnist\n",
    "\n",
    "\n",
    "%matplotlib inline"
   ]
  },
  {
   "cell_type": "code",
   "execution_count": null,
   "id": "149368d1-0e0c-4013-b495-ea6913aaeb39",
   "metadata": {},
   "outputs": [],
   "source": []
  },
  {
   "cell_type": "code",
   "execution_count": 3,
   "id": "5dc7aaaa-e16c-4365-9649-9d626649dc96",
   "metadata": {
    "execution": {
     "iopub.execute_input": "2022-08-05T12:32:40.811482Z",
     "iopub.status.busy": "2022-08-05T12:32:40.811108Z",
     "iopub.status.idle": "2022-08-05T12:32:40.853260Z",
     "shell.execute_reply": "2022-08-05T12:32:40.852378Z",
     "shell.execute_reply.started": "2022-08-05T12:32:40.811462Z"
    },
    "tags": []
   },
   "outputs": [],
   "source": [
    "def sample_digit(target: int, X, y):\n",
    "    return next((digit for (digit, label) in zip(X, y)\n",
    "                 if int(label) == int(target))).reshape((28, 28))\n",
    "\n",
    "\n",
    "def display_mnist_digits(X,\n",
    "                         y,\n",
    "                         figsize=(16, 8),\n",
    "                         vmin: float = None,\n",
    "                         vmax: float = None,\n",
    "                         cmap: str = \"gray\"):\n",
    "    fig, axs = plt.subplots(2, 5, figsize=figsize, constrained_layout=True)\n",
    "\n",
    "    for i in range(2):\n",
    "        for j in range(5):\n",
    "            im = axs[i, j].imshow(\n",
    "                sample_digit(target=5 * i + j, X=X, y=y),\n",
    "                vmin=vmin,\n",
    "                vmax=vmax,\n",
    "                cmap=cmap,\n",
    "            )\n",
    "            axs[i, j].axes.xaxis.set_visible(False)\n",
    "            axs[i, j].axes.yaxis.set_visible(False)\n",
    "            if vmin is None or vmax is None:\n",
    "                fig.colorbar(im, ax=axs[i, j], shrink=0.6)\n",
    "    if vmin is not None and vmax is not None:\n",
    "        fig.colorbar(im, ax=axs[:, 4], location=\"right\", shrink=0.6)\n",
    "    plt.show()\n",
    "\n",
    "\n",
    "def do_train_and_evaluate(x_train,\n",
    "                          y_train,\n",
    "                          x_test,\n",
    "                          y_test,\n",
    "                          tuple_size: int,\n",
    "                          input_indexes: List[int] = None,\n",
    "                          shuffle_indexes: bool = True,\n",
    "                          bleach: Union[int, str] = \"auto\",\n",
    "                          **kwargs):\n",
    "    num_classes = len(np.unique(y_train))\n",
    "\n",
    "    print(\" ----- Training model ----- \")            \n",
    "\n",
    "    if input_indexes is None:\n",
    "        input_indexes = np.arange(x_train[0].size)\n",
    "    if shuffle_indexes:\n",
    "        np.random.shuffle(input_indexes)\n",
    "    print(f\"Using input_indexes: {input_indexes}\")\n",
    "\n",
    "    model = WiSARD(num_inputs=x_train[0].size,\n",
    "                   num_classes=num_classes,\n",
    "                   unit_inputs=tuple_size,\n",
    "                   unit_entries=1,\n",
    "                   unit_hashes=1,\n",
    "                   input_idxs=input_indexes,\n",
    "                   shared_rand_vals=False,\n",
    "                   randomize=False)\n",
    "\n",
    "    model.fit(x_train, y_train)\n",
    "    max_bleach = model.max_bleach()\n",
    "    print(f\"Max bleach is: {max_bleach}\\n\")\n",
    "\n",
    "    print(\" ----- Evaluating model ----- \")\n",
    "\n",
    "    if isinstance(bleach, int):\n",
    "        y_pred = model.predict(x_test, y_test, bleach=bleach, use_tqdm=True)\n",
    "        y_pred, ties = untie(y_pred, use_tqdm=False)\n",
    "        accuracy = accuracy_score(y_test, y_pred)\n",
    "        print(f\"Accuracy: {accuracy:.3f}\")\n",
    "    elif bleach == \"auto\":\n",
    "        bleach = find_best_bleach_bin_search(model,\n",
    "                                           X=x_test,\n",
    "                                           y=y_test,\n",
    "                                           min_bleach=1,\n",
    "                                           max_bleach=max_bleach,\n",
    "                                           **kwargs)\n",
    "    else:\n",
    "        raise ValueError(f\"Invalid value for bleach: '{bleach}'\")\n",
    "\n",
    "    return model, bleach"
   ]
  },
  {
   "cell_type": "markdown",
   "id": "fac250c0-4cf8-414e-98f7-3033c6cc5a9b",
   "metadata": {},
   "source": [
    "# MNIST\n",
    "\n",
    "Encoder:\n",
    "- Type: Thermometer\n",
    "- Resolution: 16\n",
    "- Min, max: 0, 255"
   ]
  },
  {
   "cell_type": "code",
   "execution_count": 4,
   "id": "093b5420-a7a4-4e3e-9b7a-0f88235b2579",
   "metadata": {
    "execution": {
     "iopub.execute_input": "2022-08-05T12:32:40.854800Z",
     "iopub.status.busy": "2022-08-05T12:32:40.854269Z",
     "iopub.status.idle": "2022-08-05T12:32:41.163092Z",
     "shell.execute_reply": "2022-08-05T12:32:41.162171Z",
     "shell.execute_reply.started": "2022-08-05T12:32:40.854776Z"
    },
    "tags": []
   },
   "outputs": [
    {
     "data": {
      "text/plain": [
       "array([ 821, 5528, 5890, ..., 2814, 5864, 2538])"
      ]
     },
     "execution_count": 4,
     "metadata": {},
     "output_type": "execute_result"
    }
   ],
   "source": [
    "(x_train, y_train), (x_test, y_test) = mnist.load_data()\n",
    "permutation = np.arange(np.unpackbits(x_train[0]).size)\n",
    "permutation = np.random.permutation(permutation)\n",
    "permutation"
   ]
  },
  {
   "cell_type": "code",
   "execution_count": 5,
   "id": "127b0c3b-ce13-47c5-98c0-502a47e5600d",
   "metadata": {
    "execution": {
     "iopub.execute_input": "2022-08-05T12:32:41.166839Z",
     "iopub.status.busy": "2022-08-05T12:32:41.166536Z",
     "iopub.status.idle": "2022-08-05T12:32:42.101009Z",
     "shell.execute_reply": "2022-08-05T12:32:42.100449Z",
     "shell.execute_reply.started": "2022-08-05T12:32:41.166817Z"
    },
    "tags": []
   },
   "outputs": [
    {
     "name": "stderr",
     "output_type": "stream",
     "text": [
      "100%|████████████████████████████████████████████████████████| 60000/60000 [00:00<00:00, 83260.79it/s]\n",
      "100%|████████████████████████████████████████████████████████| 10000/10000 [00:00<00:00, 83948.37it/s]\n"
     ]
    }
   ],
   "source": [
    "x_train = permute_dataset_bits(x_train, permutation)\n",
    "x_test  = permute_dataset_bits(x_test, permutation)"
   ]
  },
  {
   "cell_type": "code",
   "execution_count": 6,
   "id": "b662dded-371f-4ad3-8303-a08ed1e7af49",
   "metadata": {
    "execution": {
     "iopub.execute_input": "2022-08-05T12:32:42.102233Z",
     "iopub.status.busy": "2022-08-05T12:32:42.101923Z",
     "iopub.status.idle": "2022-08-05T12:32:42.743997Z",
     "shell.execute_reply": "2022-08-05T12:32:42.743471Z",
     "shell.execute_reply.started": "2022-08-05T12:32:42.102212Z"
    },
    "tags": []
   },
   "outputs": [
    {
     "data": {
      "image/png": "[encoded data removed]",
      "text/plain": [
       "<Figure size 1152x576 with 11 Axes>"
      ]
     },
     "metadata": {
      "needs_background": "light"
     },
     "output_type": "display_data"
    }
   ],
   "source": [
    "display_mnist_digits(x_train, y_train, vmin=0, vmax=255)"
   ]
  },
  {
   "cell_type": "code",
   "execution_count": 7,
   "id": "3042f934-46cf-4cee-b5dd-acf86c4f036f",
   "metadata": {
    "execution": {
     "iopub.execute_input": "2022-08-05T12:32:42.745255Z",
     "iopub.status.busy": "2022-08-05T12:32:42.744928Z",
     "iopub.status.idle": "2022-08-05T12:32:50.635991Z",
     "shell.execute_reply": "2022-08-05T12:32:50.635302Z",
     "shell.execute_reply.started": "2022-08-05T12:32:42.745234Z"
    },
    "tags": []
   },
   "outputs": [
    {
     "name": "stderr",
     "output_type": "stream",
     "text": [
      "Encoding dataset: 100%|██████████████████████████████████████| 60000/60000 [00:05<00:00, 10079.59it/s]\n",
      "Encoding dataset: 100%|██████████████████████████████████████| 10000/10000 [00:00<00:00, 13075.22it/s]\n"
     ]
    }
   ],
   "source": [
    "thermometer = ThermometerEncoder(minimum=0, maximum=255, resolution=16)\n",
    "x_train = encode_dataset(thermometer, x_train)\n",
    "x_test = encode_dataset(thermometer, x_test)"
   ]
  },
  {
   "cell_type": "code",
   "execution_count": 8,
   "id": "2fe2c100-9760-4b8d-8a93-e533988fe47c",
   "metadata": {
    "execution": {
     "iopub.execute_input": "2022-08-05T12:32:50.636983Z",
     "iopub.status.busy": "2022-08-05T12:32:50.636795Z",
     "iopub.status.idle": "2022-08-05T13:23:12.518597Z",
     "shell.execute_reply": "2022-08-05T13:23:12.517802Z",
     "shell.execute_reply.started": "2022-08-05T12:32:50.636965Z"
    },
    "tags": []
   },
   "outputs": [
    {
     "name": "stdout",
     "output_type": "stream",
     "text": [
      " ----- Training model ----- \n",
      "Using input_indexes: [    0   784  1568 ... 10975 11759 12543]\n"
     ]
    },
    {
     "name": "stderr",
     "output_type": "stream",
     "text": [
      "Training model: 100%|██████████████████████████████████████████| 60000/60000 [01:00<00:00, 988.55it/s]\n"
     ]
    },
    {
     "name": "stdout",
     "output_type": "stream",
     "text": [
      "Max bleach is: 6738\n",
      "\n",
      " ----- Evaluating model ----- \n",
      "Testing with bleach=1685\n",
      "[b=1685] Accuracy=0.716, ties=89\n",
      "Testing with bleach=3369\n",
      "[b=3369] Accuracy=0.209, ties=58\n",
      "Testing with bleach=5053\n",
      "[b=5053] Accuracy=0.114, ties=0\n",
      "Testing with bleach=843\n",
      "[b=843] Accuracy=0.816, ties=80\n",
      "Testing with bleach=1685\n",
      "[b=1685] Accuracy=0.716\n",
      "Testing with bleach=2527\n",
      "[b=2527] Accuracy=0.446, ties=86\n",
      "Testing with bleach=422\n",
      "[b=422] Accuracy=0.807, ties=130\n",
      "Testing with bleach=843\n",
      "[b=843] Accuracy=0.816\n",
      "Testing with bleach=1264\n",
      "[b=1264] Accuracy=0.792, ties=75\n",
      "Testing with bleach=633\n",
      "[b=633] Accuracy=0.817, ties=99\n",
      "Testing with bleach=843\n",
      "[b=843] Accuracy=0.816\n",
      "Testing with bleach=1053\n",
      "[b=1053] Accuracy=0.813, ties=75\n",
      "Testing with bleach=528\n",
      "[b=528] Accuracy=0.810, ties=113\n",
      "Testing with bleach=633\n",
      "[b=633] Accuracy=0.817\n",
      "Testing with bleach=738\n",
      "[b=738] Accuracy=0.821, ties=82\n",
      "Testing with bleach=686\n",
      "[b=686] Accuracy=0.818, ties=105\n",
      "Testing with bleach=738\n",
      "[b=738] Accuracy=0.821\n",
      "Testing with bleach=790\n",
      "[b=790] Accuracy=0.819, ties=98\n",
      "Testing with bleach=712\n",
      "[b=712] Accuracy=0.820, ties=86\n",
      "Testing with bleach=738\n",
      "[b=738] Accuracy=0.821\n",
      "Testing with bleach=764\n",
      "[b=764] Accuracy=0.822, ties=82\n",
      "Testing with bleach=751\n",
      "[b=751] Accuracy=0.822, ties=75\n",
      "Testing with bleach=764\n",
      "[b=764] Accuracy=0.822\n",
      "Testing with bleach=777\n",
      "[b=777] Accuracy=0.821, ties=91\n",
      "Testing with bleach=745\n",
      "[b=745] Accuracy=0.821, ties=72\n",
      "Testing with bleach=751\n",
      "[b=751] Accuracy=0.822\n",
      "Testing with bleach=757\n",
      "[b=757] Accuracy=0.823, ties=75\n",
      "Testing with bleach=754\n",
      "[b=754] Accuracy=0.822, ties=78\n",
      "Testing with bleach=757\n",
      "[b=757] Accuracy=0.823\n",
      "Testing with bleach=760\n",
      "[b=760] Accuracy=0.823, ties=79\n",
      "Testing with bleach=759\n",
      "[b=759] Accuracy=0.823, ties=75\n",
      "Testing with bleach=760\n",
      "[b=760] Accuracy=0.823\n",
      "Testing with bleach=761\n",
      "[b=761] Accuracy=0.823, ties=84\n",
      "Testing with bleach=758\n",
      "[b=758] Accuracy=0.823, ties=69\n",
      "Testing with bleach=759\n",
      "[b=759] Accuracy=0.823\n",
      "Testing with bleach=760\n",
      "[b=760] Accuracy=0.823\n",
      "Best bleach: 759....\n",
      "Best bleach: 759\n"
     ]
    }
   ],
   "source": [
    "input_size = x_train[0].size\n",
    "input_idxs = np.arange(input_size).reshape(thermometer.resolution, -1).T.ravel()\n",
    "\n",
    "model, bleach = do_train_and_evaluate(x_train,\n",
    "                                      y_train,\n",
    "                                      x_test,\n",
    "                                      y_test,\n",
    "                                      input_indexes=input_idxs,\n",
    "                                      tuple_size=16,\n",
    "                                      shuffle_indexes=False)\n",
    "print(f\"Best bleach: {bleach}\")"
   ]
  },
  {
   "cell_type": "markdown",
   "id": "cd94dde5-c2b8-49e3-904f-59d8200d9ba7",
   "metadata": {},
   "source": [
    "Encoder:\n",
    "- Type: Thermometer\n",
    "- Resolution: 8\n",
    "- Min, max: 0, 255"
   ]
  },
  {
   "cell_type": "code",
   "execution_count": 9,
   "id": "581fa933-6938-41d4-b734-af5107fa498e",
   "metadata": {
    "execution": {
     "iopub.execute_input": "2022-08-05T13:23:12.519822Z",
     "iopub.status.busy": "2022-08-05T13:23:12.519624Z",
     "iopub.status.idle": "2022-08-05T13:23:12.792892Z",
     "shell.execute_reply": "2022-08-05T13:23:12.791924Z",
     "shell.execute_reply.started": "2022-08-05T13:23:12.519804Z"
    }
   },
   "outputs": [
    {
     "data": {
      "text/plain": [
       "array([5021, 5696, 5940, ..., 4072, 5755, 5191])"
      ]
     },
     "execution_count": 9,
     "metadata": {},
     "output_type": "execute_result"
    }
   ],
   "source": [
    "(x_train, y_train), (x_test, y_test) = mnist.load_data()\n",
    "permutation = np.arange(np.unpackbits(x_train[0]).size)\n",
    "permutation = np.random.permutation(permutation)\n",
    "permutation"
   ]
  },
  {
   "cell_type": "code",
   "execution_count": 10,
   "id": "f8ef458e-cfc6-4230-ac69-885804ddd12a",
   "metadata": {
    "execution": {
     "iopub.execute_input": "2022-08-05T13:23:12.794076Z",
     "iopub.status.busy": "2022-08-05T13:23:12.793880Z",
     "iopub.status.idle": "2022-08-05T13:23:13.709833Z",
     "shell.execute_reply": "2022-08-05T13:23:13.708953Z",
     "shell.execute_reply.started": "2022-08-05T13:23:12.794057Z"
    }
   },
   "outputs": [
    {
     "name": "stderr",
     "output_type": "stream",
     "text": [
      "100%|████████████████████████████████████████████████████████| 60000/60000 [00:00<00:00, 85358.49it/s]\n",
      "100%|████████████████████████████████████████████████████████| 10000/10000 [00:00<00:00, 83918.98it/s]\n"
     ]
    }
   ],
   "source": [
    "x_train = permute_dataset_bits(x_train, permutation)\n",
    "x_test  = permute_dataset_bits(x_test, permutation)"
   ]
  },
  {
   "cell_type": "code",
   "execution_count": 11,
   "id": "ff78c6a3-35d5-4b9b-acff-00c5c768f338",
   "metadata": {
    "execution": {
     "iopub.execute_input": "2022-08-05T13:23:13.711046Z",
     "iopub.status.busy": "2022-08-05T13:23:13.710851Z",
     "iopub.status.idle": "2022-08-05T13:23:18.084261Z",
     "shell.execute_reply": "2022-08-05T13:23:18.083376Z",
     "shell.execute_reply.started": "2022-08-05T13:23:13.711027Z"
    }
   },
   "outputs": [
    {
     "name": "stderr",
     "output_type": "stream",
     "text": [
      "Encoding dataset: 100%|██████████████████████████████████████| 60000/60000 [00:03<00:00, 18454.20it/s]\n",
      "Encoding dataset: 100%|██████████████████████████████████████| 10000/10000 [00:00<00:00, 20261.56it/s]\n"
     ]
    }
   ],
   "source": [
    "thermometer = ThermometerEncoder(minimum=0, maximum=255, resolution=8)\n",
    "x_train = encode_dataset(thermometer, x_train)\n",
    "x_test = encode_dataset(thermometer, x_test)"
   ]
  },
  {
   "cell_type": "code",
   "execution_count": 12,
   "id": "877dd947-8519-4c81-8564-7adde8697b38",
   "metadata": {
    "execution": {
     "iopub.execute_input": "2022-08-05T13:23:18.085367Z",
     "iopub.status.busy": "2022-08-05T13:23:18.085172Z",
     "iopub.status.idle": "2022-08-05T14:11:01.732898Z",
     "shell.execute_reply": "2022-08-05T14:11:01.732021Z",
     "shell.execute_reply.started": "2022-08-05T13:23:18.085348Z"
    },
    "tags": []
   },
   "outputs": [
    {
     "name": "stdout",
     "output_type": "stream",
     "text": [
      " ----- Training model ----- \n",
      "Using input_indexes: [   0  784 1568 ... 4703 5487 6271]\n"
     ]
    },
    {
     "name": "stderr",
     "output_type": "stream",
     "text": [
      "Training model: 100%|█████████████████████████████████████████| 60000/60000 [00:54<00:00, 1090.96it/s]\n"
     ]
    },
    {
     "name": "stdout",
     "output_type": "stream",
     "text": [
      "Max bleach is: 6735\n",
      "\n",
      " ----- Evaluating model ----- \n",
      "Testing with bleach=1684\n",
      "[b=1684] Accuracy=0.744, ties=73\n",
      "Testing with bleach=3367\n",
      "[b=3367] Accuracy=0.266, ties=44\n",
      "Testing with bleach=5050\n",
      "[b=5050] Accuracy=0.114, ties=0\n",
      "Testing with bleach=843\n",
      "[b=843] Accuracy=0.816, ties=98\n",
      "Testing with bleach=1684\n",
      "[b=1684] Accuracy=0.744\n",
      "Testing with bleach=2525\n",
      "[b=2525] Accuracy=0.548, ties=87\n",
      "Testing with bleach=423\n",
      "[b=423] Accuracy=0.792, ties=223\n",
      "Testing with bleach=843\n",
      "[b=843] Accuracy=0.816\n",
      "Testing with bleach=1263\n",
      "[b=1263] Accuracy=0.805, ties=86\n",
      "Testing with bleach=633\n",
      "[b=633] Accuracy=0.810, ties=116\n",
      "Testing with bleach=843\n",
      "[b=843] Accuracy=0.816\n",
      "Testing with bleach=1053\n",
      "[b=1053] Accuracy=0.811, ties=86\n",
      "Testing with bleach=738\n",
      "[b=738] Accuracy=0.818, ties=110\n",
      "Testing with bleach=843\n",
      "[b=843] Accuracy=0.816\n",
      "Testing with bleach=948\n",
      "[b=948] Accuracy=0.816, ties=102\n",
      "Testing with bleach=686\n",
      "[b=686] Accuracy=0.816, ties=93\n",
      "Testing with bleach=738\n",
      "[b=738] Accuracy=0.818\n",
      "Testing with bleach=790\n",
      "[b=790] Accuracy=0.820, ties=95\n",
      "Testing with bleach=764\n",
      "[b=764] Accuracy=0.819, ties=95\n",
      "Testing with bleach=790\n",
      "[b=790] Accuracy=0.820\n",
      "Testing with bleach=816\n",
      "[b=816] Accuracy=0.820, ties=102\n",
      "Testing with bleach=777\n",
      "[b=777] Accuracy=0.818, ties=92\n",
      "Testing with bleach=790\n",
      "[b=790] Accuracy=0.820\n",
      "Testing with bleach=803\n",
      "[b=803] Accuracy=0.821, ties=102\n",
      "Testing with bleach=797\n",
      "[b=797] Accuracy=0.819, ties=94\n",
      "Testing with bleach=803\n",
      "[b=803] Accuracy=0.821\n",
      "Testing with bleach=809\n",
      "[b=809] Accuracy=0.820, ties=105\n",
      "Testing with bleach=800\n",
      "[b=800] Accuracy=0.821, ties=114\n",
      "Testing with bleach=803\n",
      "[b=803] Accuracy=0.821\n",
      "Testing with bleach=806\n",
      "[b=806] Accuracy=0.820, ties=103\n",
      "Testing with bleach=802\n",
      "[b=802] Accuracy=0.821, ties=97\n",
      "Testing with bleach=803\n",
      "[b=803] Accuracy=0.821\n",
      "Testing with bleach=804\n",
      "[b=804] Accuracy=0.820, ties=96\n",
      "Testing with bleach=801\n",
      "[b=801] Accuracy=0.822, ties=103\n",
      "Testing with bleach=802\n",
      "[b=802] Accuracy=0.821\n",
      "Testing with bleach=803\n",
      "[b=803] Accuracy=0.821\n",
      "Testing with bleach=800\n",
      "[b=800] Accuracy=0.821\n",
      "Testing with bleach=801\n",
      "[b=801] Accuracy=0.822\n",
      "Testing with bleach=802\n",
      "[b=802] Accuracy=0.821\n",
      "Best bleach: 801....\n",
      "Best bleach: 801\n"
     ]
    }
   ],
   "source": [
    "input_size = x_train[0].size\n",
    "input_idxs = np.arange(input_size).reshape(thermometer.resolution, -1).T.ravel()\n",
    "\n",
    "model, bleach = do_train_and_evaluate(x_train,\n",
    "                                      y_train,\n",
    "                                      x_test,\n",
    "                                      y_test,\n",
    "                                      input_indexes=input_idxs,\n",
    "                                      tuple_size=8,\n",
    "                                      shuffle_indexes=False)\n",
    "print(f\"Best bleach: {bleach}\")"
   ]
  },
  {
   "cell_type": "markdown",
   "id": "c93fa732-6ab4-4718-92b4-fdb8b774a9f5",
   "metadata": {
    "execution": {
     "iopub.execute_input": "2022-08-05T10:37:20.259224Z",
     "iopub.status.busy": "2022-08-05T10:37:20.258891Z",
     "iopub.status.idle": "2022-08-05T10:37:20.293461Z",
     "shell.execute_reply": "2022-08-05T10:37:20.292624Z",
     "shell.execute_reply.started": "2022-08-05T10:37:20.259204Z"
    },
    "tags": []
   },
   "source": [
    "Encoder:\n",
    "- Type: Thermometer\n",
    "- Resolution: 24\n",
    "- Min, max: 0, 255"
   ]
  },
  {
   "cell_type": "code",
   "execution_count": null,
   "id": "7c92eb62-2df2-4a4a-9833-0d6475547a45",
   "metadata": {
    "execution": {
     "iopub.execute_input": "2022-08-05T14:11:01.734300Z",
     "iopub.status.busy": "2022-08-05T14:11:01.733932Z"
    },
    "tags": []
   },
   "outputs": [
    {
     "name": "stderr",
     "output_type": "stream",
     "text": [
      "100%|████████████████████████████████████████████████████████| 60000/60000 [00:00<00:00, 85232.06it/s]\n",
      "100%|████████████████████████████████████████████████████████| 10000/10000 [00:00<00:00, 84197.95it/s]\n",
      "Encoding dataset: 100%|███████████████████████████████████████| 60000/60000 [00:06<00:00, 9195.31it/s]\n",
      "Encoding dataset: 100%|███████████████████████████████████████| 10000/10000 [00:01<00:00, 9904.42it/s]\n"
     ]
    },
    {
     "name": "stdout",
     "output_type": "stream",
     "text": [
      " ----- Training model ----- \n",
      "Using input_indexes: [    0   784  1568 ... 17247 18031 18815]\n"
     ]
    },
    {
     "name": "stderr",
     "output_type": "stream",
     "text": [
      "Training model: 100%|██████████████████████████████████████████| 60000/60000 [01:08<00:00, 878.25it/s]\n"
     ]
    },
    {
     "name": "stdout",
     "output_type": "stream",
     "text": [
      "Max bleach is: 6741\n",
      "\n",
      " ----- Evaluating model ----- \n",
      "Testing with bleach=1685\n",
      "[b=1685] Accuracy=0.691, ties=70\n",
      "Testing with bleach=3370\n",
      "[b=3370] Accuracy=0.184, ties=32\n",
      "Testing with bleach=5055\n",
      "[b=5055] Accuracy=0.114, ties=0\n",
      "Testing with bleach=843\n",
      "[b=843] Accuracy=0.814, ties=93\n",
      "Testing with bleach=1685\n",
      "[b=1685] Accuracy=0.691\n",
      "Testing with bleach=2527\n",
      "[b=2527] Accuracy=0.412, ties=85\n",
      "Testing with bleach=422\n",
      "[b=422] Accuracy=0.806, ties=142\n",
      "Testing with bleach=843\n",
      "[b=843] Accuracy=0.814\n",
      "Testing with bleach=1264\n",
      "[b=1264] Accuracy=0.783, ties=66\n",
      "Testing with bleach=633\n",
      "[b=633] Accuracy=0.816, ties=104\n",
      "Testing with bleach=843\n",
      "[b=843] Accuracy=0.814\n",
      "Testing with bleach=1053\n",
      "[b=1053] Accuracy=0.811, ties=68\n",
      "Testing with bleach=528\n",
      "[b=528] Accuracy=0.816, ties=108\n",
      "Testing with bleach=633\n",
      "[b=633] Accuracy=0.816\n",
      "Testing with bleach=738\n",
      "[b=738] Accuracy=0.814, ties=83\n",
      "Testing with bleach=581\n",
      "[b=581] Accuracy=0.817, ties=87\n",
      "Testing with bleach=633\n",
      "[b=633] Accuracy=0.816\n",
      "Testing with bleach=685\n",
      "[b=685] Accuracy=0.817, ties=91\n",
      "Testing with bleach=555\n",
      "[b=555] Accuracy=0.815, ties=95\n",
      "Testing with bleach=581\n",
      "[b=581] Accuracy=0.817\n",
      "Testing with bleach=607\n",
      "[b=607] Accuracy=0.815, ties=102\n",
      "Testing with bleach=568\n",
      "[b=568] Accuracy=0.816, ties=102\n",
      "Testing with bleach=581\n",
      "[b=581] Accuracy=0.817\n",
      "Testing with bleach=594\n",
      "[b=594] Accuracy=0.814, ties=66\n",
      "Testing with bleach=575\n",
      "[b=575] Accuracy=0.817, ties=119\n",
      "Testing with bleach=581\n",
      "[b=581] Accuracy=0.817\n",
      "Testing with bleach=587\n",
      "[b=587] Accuracy=0.816, ties=90\n",
      "Testing with bleach=572\n",
      "[b=572] Accuracy=0.816, ties=96\n",
      "Testing with bleach=575\n",
      "[b=575] Accuracy=0.817\n",
      "Testing with bleach=578\n"
     ]
    }
   ],
   "source": [
    "resolution = 24\n",
    "tuple_size = 24\n",
    "\n",
    "(x_train, y_train), (x_test, y_test) = mnist.load_data()\n",
    "permutation = np.arange(np.unpackbits(x_train[0]).size)\n",
    "permutation = np.random.permutation(permutation)\n",
    "permutation\n",
    "\n",
    "x_train = permute_dataset_bits(x_train, permutation)\n",
    "x_test  = permute_dataset_bits(x_test, permutation)\n",
    "\n",
    "thermometer = ThermometerEncoder(minimum=0, maximum=255, resolution=resolution)\n",
    "x_train = encode_dataset(thermometer, x_train)\n",
    "x_test = encode_dataset(thermometer, x_test)\n",
    "\n",
    "input_size = x_train[0].size\n",
    "input_idxs = np.arange(input_size).reshape(thermometer.resolution, -1).T.ravel()\n",
    "\n",
    "model, bleach = do_train_and_evaluate(x_train,\n",
    "                                      y_train,\n",
    "                                      x_test,\n",
    "                                      y_test,\n",
    "                                      input_indexes=input_idxs,\n",
    "                                      tuple_size=tuple_size,\n",
    "                                      shuffle_indexes=False)\n",
    "print(f\"Best bleach: {bleach}\")"
   ]
  },
  {
   "cell_type": "markdown",
   "id": "c2df5ea6-3a2e-43d7-8b92-90c3f0525650",
   "metadata": {},
   "source": [
    "# Fashion MIST\n",
    "\n",
    "Encoder:\n",
    "- Type: Thermometer\n",
    "- Resolution: 16\n",
    "- Min, max: 0, 255"
   ]
  },
  {
   "cell_type": "code",
   "execution_count": null,
   "id": "3dc44374-165c-4150-811a-016a86c3098b",
   "metadata": {},
   "outputs": [],
   "source": [
    "(x_train, y_train), (x_test, y_test) = fashion_mnist.load_data()\n",
    "permutation = np.arange(np.unpackbits(x_train[0]).size)\n",
    "permutation = np.random.permutation(permutation)\n",
    "permutation"
   ]
  },
  {
   "cell_type": "code",
   "execution_count": null,
   "id": "f75ee6fe-3b94-48d7-9c6c-d319aefde0ac",
   "metadata": {},
   "outputs": [],
   "source": [
    "x_train = permute_dataset_bits(x_train, permutation)\n",
    "x_test  = permute_dataset_bits(x_test, permutation)"
   ]
  },
  {
   "cell_type": "code",
   "execution_count": null,
   "id": "f9564169-f0ca-49d4-af62-c888a44d746d",
   "metadata": {},
   "outputs": [],
   "source": [
    "display_mnist_digits(x_train, y_train, vmin=0, vmax=255)"
   ]
  },
  {
   "cell_type": "code",
   "execution_count": null,
   "id": "58f0b41e-a293-43f0-9bc8-856885877fdf",
   "metadata": {},
   "outputs": [],
   "source": [
    "thermometer = ThermometerEncoder(minimum=0, maximum=255, resolution=16)\n",
    "x_train = encode_dataset(thermometer, x_train)\n",
    "x_test = encode_dataset(thermometer, x_test)"
   ]
  },
  {
   "cell_type": "code",
   "execution_count": null,
   "id": "a16cd070-89e5-479e-a35d-4e97e852c1b2",
   "metadata": {},
   "outputs": [],
   "source": [
    "input_size = x_train[0].size\n",
    "input_idxs = np.arange(input_size).reshape(thermometer.resolution, -1).T.ravel()\n",
    "\n",
    "model, bleach = do_train_and_evaluate(x_train,\n",
    "                                      y_train,\n",
    "                                      x_test,\n",
    "                                      y_test,\n",
    "                                      input_indexes=input_idxs,\n",
    "                                      tuple_size=16,\n",
    "                                      shuffle_indexes=False)\n",
    "print(f\"Best bleach: {bleach}\")"
   ]
  },
  {
   "cell_type": "markdown",
   "id": "3687db3b-3e6e-48e0-b1f7-31de7fdfb5ec",
   "metadata": {},
   "source": [
    "Encoder:\n",
    "- Type: Thermometer\n",
    "- Resolution: 8\n",
    "- Min, max: 0, 255"
   ]
  },
  {
   "cell_type": "code",
   "execution_count": null,
   "id": "7d56e91d-40d8-45fd-bcfa-cb28e2b5629e",
   "metadata": {},
   "outputs": [],
   "source": [
    "(x_train, y_train), (x_test, y_test) = fashion_mnist.load_data()\n",
    "permutation = np.arange(np.unpackbits(x_train[0]).size)\n",
    "permutation = np.random.permutation(permutation)\n",
    "permutation"
   ]
  },
  {
   "cell_type": "code",
   "execution_count": null,
   "id": "e06b171e-4d1c-4397-b546-aa62b821f17c",
   "metadata": {},
   "outputs": [],
   "source": [
    "x_train = permute_dataset_bits(x_train, permutation)\n",
    "x_test  = permute_dataset_bits(x_test, permutation)"
   ]
  },
  {
   "cell_type": "code",
   "execution_count": null,
   "id": "e7aa7cf0-1f93-4451-abd0-a70a96dfc54c",
   "metadata": {},
   "outputs": [],
   "source": [
    "thermometer = ThermometerEncoder(minimum=0, maximum=255, resolution=8)\n",
    "x_train = encode_dataset(thermometer, x_train)\n",
    "x_test = encode_dataset(thermometer, x_test)"
   ]
  },
  {
   "cell_type": "code",
   "execution_count": null,
   "id": "d72304fc-f5a8-41b7-82d8-e92df2f69f42",
   "metadata": {
    "tags": []
   },
   "outputs": [],
   "source": [
    "input_size = x_train[0].size\n",
    "input_idxs = np.arange(input_size).reshape(thermometer.resolution, -1).T.ravel()\n",
    "\n",
    "model, bleach = do_train_and_evaluate(x_train,\n",
    "                                      y_train,\n",
    "                                      x_test,\n",
    "                                      y_test,\n",
    "                                      input_indexes=input_idxs,\n",
    "                                      tuple_size=8,\n",
    "                                      shuffle_indexes=False)\n",
    "print(f\"Best bleach: {bleach}\")"
   ]
  },
  {
   "cell_type": "code",
   "execution_count": null,
   "id": "82edc553-18f4-4ec4-a6d6-78c0cca2e896",
   "metadata": {},
   "outputs": [],
   "source": []
  }
 ],
 "metadata": {
  "kernelspec": {
   "display_name": "Python 3 (ipykernel)",
   "language": "python",
   "name": "python3"
  },
  "language_info": {
   "codemirror_mode": {
    "name": "ipython",
    "version": 3
   },
   "file_extension": ".py",
   "mimetype": "text/x-python",
   "name": "python",
   "nbconvert_exporter": "python",
   "pygments_lexer": "ipython3",
   "version": "3.8.10"
  }
 },
 "nbformat": 4,
 "nbformat_minor": 5
}
